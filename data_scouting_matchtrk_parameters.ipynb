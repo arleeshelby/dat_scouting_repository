{
 "cells": [
  {
   "cell_type": "code",
   "execution_count": 3,
   "id": "05f13a9f-af0d-4f2d-a2a2-5dbb7001b7cb",
   "metadata": {},
   "outputs": [],
   "source": [
    "import numpy as np\n",
    "import matplotlib.pyplot as plt\n",
    "import mplhep as hep\n",
    "plt.style.use(hep.style.CMS)\n",
    "import itertools\n",
    "from itertools import permutations\n",
    "from itertools import combinations\n",
    "from ROOT import *\n",
    "import uproot3\n",
    "import awkward as ak\n",
    "import vector"
   ]
  },
  {
   "cell_type": "code",
   "execution_count": 4,
   "id": "676bef22-06b1-45eb-8639-baf2bdca2e43",
   "metadata": {},
   "outputs": [],
   "source": [
    "arrays1 = (uproot3.open(\"/Users/arleeshelby/BdToJpsi_prompt_PU140.root\")[\"L1TrackNtuple/eventTree\"].arrays(\"*\", namedecode=\"utf-8\"))"
   ]
  },
  {
   "cell_type": "code",
   "execution_count": 5,
   "id": "a444602d-8d31-4bfd-b19b-47e3a327f271",
   "metadata": {},
   "outputs": [
    {
     "data": {
      "text/plain": [
       "dict_keys(['trk_pt', 'trk_eta', 'trk_phi', 'trk_d0', 'trk_z0', 'trk_chi2', 'trk_chi2rphi', 'trk_chi2rz', 'trk_bendchi2', 'trk_nstub', 'trk_lhits', 'trk_dhits', 'trk_seed', 'trk_hitpattern', 'trk_phiSector', 'trk_genuine', 'trk_loose', 'trk_unknown', 'trk_combinatoric', 'trk_fake', 'trk_matchtp_pdgid', 'trk_matchtp_pt', 'trk_matchtp_eta', 'trk_matchtp_phi', 'trk_matchtp_z0', 'trk_matchtp_dxy', 'trk_parent_matchtp_pdgid', 'trk_parent_matchtp_m', 'trk_parent_matchtp_m_calc', 'trk_parent_matchtp_charge', 'trk_parent_matchtp_vz', 'tp_pt', 'tp_eta', 'tp_phi', 'tp_dxy', 'tp_d0', 'tp_z0', 'tp_d0_prod', 'tp_z0_prod', 'tp_pdgid', 'tp_nmatch', 'tp_nstub', 'tp_eventid', 'tp_charge', 'parent_tp_pdgid', 'parent_tp_m', 'parent_tp_m_calc', 'parent_tp_charge', 'parent_tp_vz', 'matchtrk_pt', 'matchtrk_eta', 'matchtrk_phi', 'matchtrk_z0', 'matchtrk_d0', 'matchtrk_chi2', 'matchtrk_chi2rphi', 'matchtrk_chi2rz', 'matchtrk_bendchi2', 'matchtrk_nstub', 'matchtrk_lhits', 'matchtrk_dhits', 'matchtrk_seed', 'matchtrk_hitpattern'])"
      ]
     },
     "execution_count": 5,
     "metadata": {},
     "output_type": "execute_result"
    }
   ],
   "source": [
    "arrays1.keys()"
   ]
  },
  {
   "cell_type": "code",
   "execution_count": 6,
   "id": "1da4489f-56f4-4e94-9937-0051ac8dc9dd",
   "metadata": {},
   "outputs": [],
   "source": [
    "parent_ID = arrays1['parent_tp_pdgid']\n",
    "daughter_ID = arrays1['tp_pdgid']\n",
    "daughter_pt = arrays1['tp_pt']\n",
    "daughter_phi = arrays1['tp_phi']\n",
    "daughter_eta = arrays1['tp_eta']\n",
    "tp_eventid = arrays1['tp_eventid']\n",
    "tp_charge = arrays1['tp_charge']\n",
    "pt_match = arrays1['matchtrk_pt']"
   ]
  },
  {
   "cell_type": "code",
   "execution_count": 7,
   "id": "c2da3ac8-bb7f-4ea5-803d-c127ea400a11",
   "metadata": {},
   "outputs": [],
   "source": [
    "other_parameters = []\n",
    "for i in range(len(arrays1['matchtrk_z0'])):\n",
    "    other_parameters.append(np.dstack((arrays1['matchtrk_z0'][i],arrays1['matchtrk_d0'][i]))[0])"
   ]
  },
  {
   "cell_type": "code",
   "execution_count": 8,
   "id": "b9f6a101-a830-4215-bbc6-a6af33abd5f0",
   "metadata": {},
   "outputs": [],
   "source": [
    "other_parameters_reco = []\n",
    "for i in range(len(arrays1['trk_z0'])):\n",
    "    other_parameters_reco.append(np.dstack((arrays1['trk_z0'][i],arrays1['trk_d0'][i]))[0])"
   ]
  },
  {
   "cell_type": "code",
   "execution_count": 9,
   "id": "c2d0b226-48e8-4192-bf8b-fd94c7c15775",
   "metadata": {},
   "outputs": [
    {
     "data": {
      "text/plain": [
       "134"
      ]
     },
     "execution_count": 9,
     "metadata": {},
     "output_type": "execute_result"
    }
   ],
   "source": [
    "len(other_parameters_reco[0])"
   ]
  },
  {
   "cell_type": "code",
   "execution_count": 10,
   "id": "fac583bc-4a24-450b-b44a-94c1a353c1a4",
   "metadata": {},
   "outputs": [],
   "source": [
    "other_parameters_tp = []\n",
    "for i in range(len(arrays1['tp_z0'])):\n",
    "    other_parameters_tp.append(np.dstack((arrays1['tp_z0'][i],arrays1['tp_d0'][i]))[0])"
   ]
  },
  {
   "cell_type": "code",
   "execution_count": 11,
   "id": "1a0b8aeb-e0b9-4b12-ab1d-31cc8f8ca0a0",
   "metadata": {},
   "outputs": [],
   "source": [
    "mass_mu = 0.1056583755"
   ]
  },
  {
   "cell_type": "code",
   "execution_count": 12,
   "id": "4309bcef-09f2-4cfe-ae36-0902cac6e3d1",
   "metadata": {},
   "outputs": [],
   "source": [
    "mass_array = []\n",
    "for i in range(len(arrays1['matchtrk_pt'])):\n",
    "    mass_array.append([mass_mu]*len(arrays1['matchtrk_pt'][i]))"
   ]
  },
  {
   "cell_type": "code",
   "execution_count": null,
   "id": "e5335681-b1c4-48d9-8d1f-e2fd99fc8bf8",
   "metadata": {},
   "outputs": [],
   "source": []
  },
  {
   "cell_type": "code",
   "execution_count": 13,
   "id": "507c67da-f2ca-4c51-9868-fb1b1a55b3ed",
   "metadata": {},
   "outputs": [],
   "source": [
    "mass_array_reco = [mass_mu]*len(arrays1['trk_pt'])"
   ]
  },
  {
   "cell_type": "code",
   "execution_count": 14,
   "id": "929af4e2-7cd3-42a3-bab6-8c8576020081",
   "metadata": {},
   "outputs": [
    {
     "data": {
      "text/plain": [
       "9389"
      ]
     },
     "execution_count": 14,
     "metadata": {},
     "output_type": "execute_result"
    }
   ],
   "source": [
    "len(mass_array_reco)"
   ]
  },
  {
   "cell_type": "code",
   "execution_count": 15,
   "id": "77a4f728-4632-4cdb-86e7-8690a7b49439",
   "metadata": {},
   "outputs": [],
   "source": [
    "momentum_vector = vector.zip({'pt':arrays1['matchtrk_pt'], 'eta':arrays1['matchtrk_eta'], 'phi':arrays1['matchtrk_phi'],'mass':mass_array})"
   ]
  },
  {
   "cell_type": "code",
   "execution_count": 16,
   "id": "03f31fee-0974-4846-82b5-06796186d8d7",
   "metadata": {},
   "outputs": [],
   "source": [
    "momentum_vector_tp = vector.zip({'pt':arrays1['tp_pt'], 'eta':arrays1['tp_eta'], 'phi':arrays1['tp_phi'],'mass':mass_array})"
   ]
  },
  {
   "cell_type": "code",
   "execution_count": 17,
   "id": "7eaa1b2a-9c76-4f03-998c-47d22f0d51a2",
   "metadata": {},
   "outputs": [],
   "source": [
    "momentum_vector_reco = vector.zip({'pt':arrays1['trk_pt'], 'eta':arrays1['trk_eta'], 'phi':arrays1['trk_phi'],'mass':mass_array_reco})"
   ]
  },
  {
   "cell_type": "code",
   "execution_count": 18,
   "id": "af8a0a23-500e-4522-9cfe-9e87054f7a98",
   "metadata": {},
   "outputs": [
    {
     "data": {
      "text/html": [
       "<pre>[{rho: 2.46, phi: -0.431, eta: 0.211, tau: 0.106},\n",
       " {rho: 3.22, phi: -0.217, eta: 0.742, tau: 0.106},\n",
       " {rho: 4.76, phi: -0.197, eta: -1.59, tau: 0.106},\n",
       " {rho: 3.25, phi: -0.0935, eta: 0.741, tau: 0.106},\n",
       " {rho: 3.94, phi: -0.141, eta: -1.28, tau: 0.106},\n",
       " {rho: 2.58, phi: -0.0516, eta: -0.435, tau: 0.106},\n",
       " {rho: 3.79, phi: -0.42, eta: 2.15, tau: 0.106},\n",
       " {rho: 2.98, phi: -0.179, eta: 2.33, tau: 0.106},\n",
       " {rho: 2.46, phi: -0.109, eta: 2.38, tau: 0.106},\n",
       " {rho: 4.74, phi: -0.193, eta: 2.36, tau: 0.106},\n",
       " ...,\n",
       " {rho: 2.16, phi: -0.706, eta: -1.15, tau: 0.106},\n",
       " {rho: 2.96, phi: -0.673, eta: -1.33, tau: 0.106},\n",
       " {rho: 2.02, phi: -0.663, eta: -0.3, tau: 0.106},\n",
       " {rho: 2.66, phi: -0.506, eta: 0.78, tau: 0.106},\n",
       " {rho: 2.27, phi: -0.772, eta: -0.465, tau: 0.106},\n",
       " {rho: 1.96, phi: -0.869, eta: 1.82, tau: 0.106},\n",
       " {rho: 3.51, phi: -0.434, eta: -1.99, tau: 0.106},\n",
       " {rho: 2.36, phi: -0.969, eta: -2.34, tau: 0.106},\n",
       " {rho: 2.53, phi: -0.621, eta: -2.09, tau: 0.106}]\n",
       "----------------------------------------------------\n",
       "type: 134 * Momentum4D[\n",
       "    rho: float64,\n",
       "    phi: float64,\n",
       "    eta: float64,\n",
       "    tau: float64\n",
       "]</pre>"
      ],
      "text/plain": [
       "<MomentumArray4D [{rho: 2.46, phi: -0.431, ...}, ...] type='134 * Momentum4...'>"
      ]
     },
     "execution_count": 18,
     "metadata": {},
     "output_type": "execute_result"
    }
   ],
   "source": [
    "momentum_vector_reco[0]"
   ]
  },
  {
   "cell_type": "code",
   "execution_count": 19,
   "id": "cd4f6b9e-681c-4623-b74f-7c14c0649e17",
   "metadata": {},
   "outputs": [
    {
     "data": {
      "text/plain": [
       "132"
      ]
     },
     "execution_count": 19,
     "metadata": {},
     "output_type": "execute_result"
    }
   ],
   "source": [
    "len(momentum_vector_tp[0])"
   ]
  },
  {
   "cell_type": "code",
   "execution_count": 20,
   "id": "7a7330f8-e748-4ac4-87b5-e7662a9b1b42",
   "metadata": {},
   "outputs": [],
   "source": [
    "match_mask = []\n",
    "for i in range(len(pt_match)):\n",
    "    match_mask.append([pt_match[i][j]>0 for j in range(len(pt_match[i]))])"
   ]
  },
  {
   "cell_type": "code",
   "execution_count": 21,
   "id": "562f9b02-7a39-4657-94c0-406b724a4a80",
   "metadata": {},
   "outputs": [
    {
     "data": {
      "text/plain": [
       "132"
      ]
     },
     "execution_count": 21,
     "metadata": {},
     "output_type": "execute_result"
    }
   ],
   "source": [
    "len(match_mask[0])"
   ]
  },
  {
   "cell_type": "code",
   "execution_count": 22,
   "id": "29a6c20f-15a8-4014-b2fd-09e95a883ab0",
   "metadata": {},
   "outputs": [],
   "source": [
    "daughter_ID_matched = [daughter_ID[i][match_mask[i]] for i in range(len(daughter_ID))]"
   ]
  },
  {
   "cell_type": "code",
   "execution_count": 23,
   "id": "552fd67f-a2c5-4a52-a6b2-671884dec9be",
   "metadata": {},
   "outputs": [
    {
     "data": {
      "text/plain": [
       "117"
      ]
     },
     "execution_count": 23,
     "metadata": {},
     "output_type": "execute_result"
    }
   ],
   "source": [
    "len(daughter_ID_matched[0])"
   ]
  },
  {
   "cell_type": "code",
   "execution_count": 24,
   "id": "8333c861-a032-4538-a343-82b4933f9861",
   "metadata": {},
   "outputs": [],
   "source": [
    "matched_tracks = [momentum_vector[i][match_mask[i]] for i in range(len(momentum_vector))]"
   ]
  },
  {
   "cell_type": "code",
   "execution_count": 25,
   "id": "776a0615-b58c-4623-a231-9b6d1c2b52f8",
   "metadata": {},
   "outputs": [],
   "source": [
    "matched_tracks_tp = [momentum_vector_tp[i][match_mask[i]] for i in range(len(momentum_vector_tp))]"
   ]
  },
  {
   "cell_type": "code",
   "execution_count": 26,
   "id": "8501b024-f15e-4eaf-b278-e353e47a5c3f",
   "metadata": {},
   "outputs": [],
   "source": [
    "matched_parameters = [other_parameters[i][match_mask[i]] for i in range(len(other_parameters))]"
   ]
  },
  {
   "cell_type": "code",
   "execution_count": 27,
   "id": "e22be84c-1136-46ce-82c3-76f58a817880",
   "metadata": {},
   "outputs": [],
   "source": [
    "matched_parameters_tp = [other_parameters_tp[i][match_mask[i]] for i in range(len(other_parameters_tp))]"
   ]
  },
  {
   "cell_type": "code",
   "execution_count": 28,
   "id": "7709d463-452a-4513-8877-64963e50ba87",
   "metadata": {},
   "outputs": [
    {
     "data": {
      "text/plain": [
       "9389"
      ]
     },
     "execution_count": 28,
     "metadata": {},
     "output_type": "execute_result"
    }
   ],
   "source": [
    "len(other_parameters)"
   ]
  },
  {
   "cell_type": "code",
   "execution_count": 29,
   "id": "5a781666-1796-42e1-8852-e35278134108",
   "metadata": {},
   "outputs": [],
   "source": [
    "muon_mask_pos = []\n",
    "for i in range(len(daughter_ID_matched)):\n",
    "    muon_mask_pos.append([daughter_ID_matched[i][j]==13 for j in range(len(daughter_ID_matched[i]))])\n",
    "    \n",
    "muon_mask_neg = []\n",
    "for i in range(len(daughter_ID_matched)):\n",
    "    muon_mask_neg.append([daughter_ID_matched[i][j]==-13 for j in range(len(daughter_ID_matched[i]))])"
   ]
  },
  {
   "cell_type": "code",
   "execution_count": 30,
   "id": "54a11952-b138-49f7-b6c5-118c6d0e3ff7",
   "metadata": {},
   "outputs": [],
   "source": [
    "muon_mask_trk_match = []\n",
    "for i in range(len(arrays1['trk_matchtp_pdgid'])):\n",
    "    muon_mask_trk_match.append([np.abs(arrays1['trk_matchtp_pdgid'][i][j])==13 for j in range(len(arrays1['trk_matchtp_pdgid'][i]))])"
   ]
  },
  {
   "cell_type": "code",
   "execution_count": 31,
   "id": "87d8bffd-8182-423b-b590-073fc2f1957f",
   "metadata": {},
   "outputs": [],
   "source": [
    "a = [np.where(sum(muon_mask_trk_match[i])>1) for i in range(len(muon_mask_trk_match))]"
   ]
  },
  {
   "cell_type": "code",
   "execution_count": 32,
   "id": "a0d0fc99-8fc8-4a8e-94e7-0ceb9b59b01b",
   "metadata": {},
   "outputs": [
    {
     "data": {
      "text/plain": [
       "3"
      ]
     },
     "execution_count": 32,
     "metadata": {},
     "output_type": "execute_result"
    }
   ],
   "source": [
    "sum(muon_mask_trk_match[5])"
   ]
  },
  {
   "cell_type": "code",
   "execution_count": 33,
   "id": "726c3d7e-bedc-4db1-a221-9083c726428c",
   "metadata": {},
   "outputs": [],
   "source": [
    "muon_momentum_vector_pos = [matched_tracks[i][muon_mask_pos[i]] for i in range(len(matched_tracks))]\n",
    "\n",
    "muon_momentum_vector_neg = [matched_tracks[i][muon_mask_neg[i]] for i in range(len(matched_tracks))]"
   ]
  },
  {
   "cell_type": "code",
   "execution_count": 34,
   "id": "69792940-6fc5-47bc-bc29-bc069209b7ea",
   "metadata": {},
   "outputs": [],
   "source": [
    "muon_momentum_vector_pos_tp = [matched_tracks_tp[i][muon_mask_pos[i]] for i in range(len(matched_tracks_tp))]\n",
    "\n",
    "muon_momentum_vector_neg_tp = [matched_tracks_tp[i][muon_mask_neg[i]] for i in range(len(matched_tracks_tp))]"
   ]
  },
  {
   "cell_type": "code",
   "execution_count": 35,
   "id": "9abcdcec-3152-4428-9514-95d3ec8f2eef",
   "metadata": {},
   "outputs": [
    {
     "data": {
      "text/plain": [
       "1"
      ]
     },
     "execution_count": 35,
     "metadata": {},
     "output_type": "execute_result"
    }
   ],
   "source": [
    "len(muon_momentum_vector_pos[0])"
   ]
  },
  {
   "cell_type": "code",
   "execution_count": 36,
   "id": "db4a422e-4f6e-4d72-aa2d-301c772dd3f1",
   "metadata": {},
   "outputs": [],
   "source": [
    "other_parameters_pos = [matched_parameters[i][muon_mask_pos[i]] for i in range(len(matched_parameters))]\n",
    "other_parameters_neg = [matched_parameters[i][muon_mask_neg[i]] for i in range(len(matched_parameters))]"
   ]
  },
  {
   "cell_type": "code",
   "execution_count": 37,
   "id": "82776b08-7ea6-44d5-95ca-88f295a17c36",
   "metadata": {},
   "outputs": [],
   "source": [
    "other_parameters_pos_tp = [matched_parameters_tp[i][muon_mask_pos[i]] for i in range(len(matched_parameters_tp))]\n",
    "other_parameters_neg_tp = [matched_parameters_tp[i][muon_mask_neg[i]] for i in range(len(matched_parameters_tp))]"
   ]
  },
  {
   "cell_type": "code",
   "execution_count": 38,
   "id": "71f1cf11-3ef1-4af2-a35d-c992c955a512",
   "metadata": {},
   "outputs": [
    {
     "data": {
      "text/plain": [
       "9389"
      ]
     },
     "execution_count": 38,
     "metadata": {},
     "output_type": "execute_result"
    }
   ],
   "source": [
    "len(matched_parameters_tp)"
   ]
  },
  {
   "cell_type": "code",
   "execution_count": 39,
   "id": "59db96f5-e4e9-42f1-b1f2-2dd8d8bd680f",
   "metadata": {},
   "outputs": [],
   "source": [
    "new_positive_mu = []\n",
    "new_negative_mu = []\n",
    "for i in range(9389):\n",
    "    posParticles = muon_momentum_vector_pos[i]\n",
    "    negParticles = muon_momentum_vector_neg[i]\n",
    "\n",
    "    lengthOfNeg = len(negParticles)\n",
    "    lengthOfPos = len(posParticles)\n",
    "    \n",
    "    newPosArray = []\n",
    "    newNegArray = []\n",
    "    \n",
    "    if lengthOfNeg==0 or lengthOfPos==0:\n",
    "        continue;\n",
    "\n",
    "    \n",
    "    for i in range(len(posParticles)):\n",
    "        newPosArray.append([[posParticles[i]]*lengthOfNeg][0])\n",
    "\n",
    "    for j in range(lengthOfPos):\n",
    "        for i in negParticles:\n",
    "            newNegArray.append(i)\n",
    "\n",
    "    new_positive_mu.append(newPosArray)\n",
    "    new_negative_mu.append(newNegArray)"
   ]
  },
  {
   "cell_type": "code",
   "execution_count": 40,
   "id": "c8d0bd0c-4c3e-4526-81e0-393a5833f1e4",
   "metadata": {},
   "outputs": [
    {
     "data": {
      "text/plain": [
       "[[<MomentumRecord4D {rho: 4.14, phi: 0.0673, eta: ..., ...} type='Momentum4D[...'>,\n",
       "  <MomentumRecord4D {rho: 4.14, phi: 0.0673, eta: ..., ...} type='Momentum4D[...'>]]"
      ]
     },
     "execution_count": 40,
     "metadata": {},
     "output_type": "execute_result"
    }
   ],
   "source": [
    "new_positive_mu[0]"
   ]
  },
  {
   "cell_type": "code",
   "execution_count": 41,
   "id": "d29f2a04-d0b9-4d96-afbc-977f6d5ae283",
   "metadata": {},
   "outputs": [],
   "source": [
    "new_positive_mu_tp = []\n",
    "new_negative_mu_tp = []\n",
    "for i in range(9389):\n",
    "    posParticles = muon_momentum_vector_pos_tp[i]\n",
    "    negParticles = muon_momentum_vector_neg_tp[i]\n",
    "\n",
    "    lengthOfNeg = len(negParticles)\n",
    "    lengthOfPos = len(posParticles)\n",
    "    \n",
    "    newPosArray = []\n",
    "    newNegArray = []\n",
    "\n",
    "    if lengthOfNeg==0 or lengthOfPos==0:\n",
    "        continue;\n",
    "\n",
    "    \n",
    "    for i in range(len(posParticles)):\n",
    "        newPosArray.append([[posParticles[i]]*lengthOfNeg][0])\n",
    "\n",
    "    for j in range(lengthOfPos):\n",
    "        for i in negParticles:\n",
    "            newNegArray.append(i)\n",
    "    \n",
    "    new_positive_mu_tp.append(newPosArray)\n",
    "    new_negative_mu_tp.append(newNegArray)"
   ]
  },
  {
   "cell_type": "code",
   "execution_count": 42,
   "id": "8378f2cb-71ca-4d53-98d7-88e3aadfeca6",
   "metadata": {},
   "outputs": [],
   "source": [
    "#delta d0 and z0 array matchtrk\n",
    "pos_mu_prams = []\n",
    "neg_mu_prams = []\n",
    "for i in range(9389):\n",
    "    posParticles = other_parameters_pos[i]\n",
    "    negParticles = other_parameters_neg[i]\n",
    "\n",
    "    lengthOfNeg = len(negParticles)\n",
    "    lengthOfPos = len(posParticles)\n",
    "    \n",
    "    newPosArray = []\n",
    "    newNegArray = []\n",
    "\n",
    "    if lengthOfNeg==0 or lengthOfPos==0:\n",
    "        continue;\n",
    "\n",
    "    \n",
    "    for i in range(len(posParticles)):\n",
    "        newPosArray.append([[posParticles[i]]*lengthOfNeg][0])\n",
    "\n",
    "    for j in range(lengthOfPos):\n",
    "        for i in negParticles:\n",
    "            newNegArray.append(i)  \n",
    "    \n",
    "    pos_mu_prams.append(newPosArray)\n",
    "    neg_mu_prams.append(newNegArray)"
   ]
  },
  {
   "cell_type": "code",
   "execution_count": 43,
   "id": "9c6c8187-aa4a-41dd-845a-b218db44e17f",
   "metadata": {},
   "outputs": [],
   "source": [
    "#delta d0 and z0 array tp\n",
    "pos_mu_prams_tp = []\n",
    "neg_mu_prams_tp = []\n",
    "for i in range(9389):\n",
    "    posParticles = other_parameters_pos_tp[i]\n",
    "    negParticles = other_parameters_neg_tp[i]\n",
    "\n",
    "    lengthOfNeg = len(negParticles)\n",
    "    lengthOfPos = len(posParticles)\n",
    "    \n",
    "    newPosArray = []\n",
    "    newNegArray = []\n",
    "\n",
    "    if lengthOfNeg==0 or lengthOfPos==0:\n",
    "        continue;\n",
    "\n",
    "    \n",
    "    for i in range(len(posParticles)):\n",
    "        newPosArray.append([[posParticles[i]]*lengthOfNeg][0])\n",
    "\n",
    "    for j in range(lengthOfPos):\n",
    "        for i in negParticles:\n",
    "            newNegArray.append(i)  \n",
    "    \n",
    "    pos_mu_prams_tp.append(newPosArray)\n",
    "    neg_mu_prams_tp.append(newNegArray)"
   ]
  },
  {
   "cell_type": "code",
   "execution_count": 44,
   "id": "2666ac72-1bee-4b46-8a1e-71673d128749",
   "metadata": {},
   "outputs": [
    {
     "data": {
      "text/plain": [
       "1554"
      ]
     },
     "execution_count": 44,
     "metadata": {},
     "output_type": "execute_result"
    }
   ],
   "source": [
    "len(new_positive_mu_tp)"
   ]
  },
  {
   "cell_type": "code",
   "execution_count": 45,
   "id": "2babb842-f8a3-408c-a85d-966a65bdaada",
   "metadata": {},
   "outputs": [],
   "source": [
    "# momentum_vector_1st_half = momentum_vector_reco[:len(momentum_vector_reco)//2]\n",
    "# momentum_vector_2nd_half = momentum_vector_reco[len(momentum_vector_reco)//2:]"
   ]
  },
  {
   "cell_type": "code",
   "execution_count": 46,
   "id": "e9595084-7364-41d5-8e91-565f9130b0a9",
   "metadata": {},
   "outputs": [],
   "source": [
    "# other_parameters_1st_half = other_parameters_reco[:len(other_parameters_reco)//2]\n",
    "# other_parameters_2nd_half = other_parameters_reco[len(other_parameters_reco)//2:]"
   ]
  },
  {
   "cell_type": "code",
   "execution_count": 47,
   "id": "bbea0933-101a-4cf7-9b39-8a6132511226",
   "metadata": {},
   "outputs": [],
   "source": [
    "def flatten(l):\n",
    "    return [item for sublist in l for item in sublist]"
   ]
  },
  {
   "cell_type": "code",
   "execution_count": 48,
   "id": "4167af15-db8e-4b70-956e-81bbc0782ff6",
   "metadata": {},
   "outputs": [],
   "source": [
    "reco_event_1_pos = []\n",
    "reco_event_1_neg = []\n",
    "for i in range(9389):\n",
    "    posParticles = momentum_vector_reco[i]\n",
    "    negParticles = momentum_vector_reco[i]\n",
    "\n",
    "    lengthOfNeg = len(negParticles)\n",
    "    lengthOfPos = len(posParticles)\n",
    "    \n",
    "    newPosArray = []\n",
    "    newNegArray = []\n",
    "    \n",
    "    if lengthOfNeg==0 or lengthOfPos==0:\n",
    "        continue;\n",
    "\n",
    "    for l in range(len(posParticles)):\n",
    "        reco_event_1_pos.append([[posParticles[l]]*(lengthOfNeg-l)][0])\n",
    "    \n",
    "    for j in range(len(posParticles)):\n",
    "        newNegArray.append(negParticles[j:])\n",
    "        \n",
    "    a = flatten(newNegArray)\n",
    "    reco_event_1_neg.append(a)"
   ]
  },
  {
   "cell_type": "code",
   "execution_count": 49,
   "id": "58565588-398b-4fe7-a3ec-d80ae15efb86",
   "metadata": {},
   "outputs": [],
   "source": [
    "reco_event_1_pos_parameters = []\n",
    "reco_event_1_neg_parameters = []\n",
    "for i in range(9389):\n",
    "    posParticles = other_parameters_reco[i]\n",
    "    negParticles = other_parameters_reco[i]\n",
    "\n",
    "    lengthOfNeg = len(negParticles)\n",
    "    lengthOfPos = len(posParticles)\n",
    "    \n",
    "    newPosArray = []\n",
    "    newNegArray = []\n",
    "    \n",
    "    if lengthOfNeg==0 or lengthOfPos==0:\n",
    "        continue;\n",
    "\n",
    "    for l in range(len(posParticles)):\n",
    "        reco_event_1_pos_parameters.append([[posParticles[l]]*(lengthOfNeg-l)][0])\n",
    "    \n",
    "    for j in range(len(posParticles)):\n",
    "        newNegArray.append(negParticles[j:])\n",
    "        \n",
    "    a = flatten(newNegArray)\n",
    "    reco_event_1_neg_parameters.append(a)"
   ]
  },
  {
   "cell_type": "code",
   "execution_count": null,
   "id": "b5eae497-10c8-4e36-bf22-77a7097cf1ae",
   "metadata": {},
   "outputs": [],
   "source": []
  },
  {
   "cell_type": "code",
   "execution_count": 50,
   "id": "c2690c1c-ae79-46fe-be89-1f2bc21644cb",
   "metadata": {},
   "outputs": [],
   "source": [
    "flatten_pos = [flatten(new_positive_mu[i]) for i in range(len(new_positive_mu))]"
   ]
  },
  {
   "cell_type": "code",
   "execution_count": 51,
   "id": "fe7ea73e-6dfe-4bfd-818b-d413b246be9e",
   "metadata": {},
   "outputs": [],
   "source": [
    "flatten_pos_pram = [flatten(pos_mu_prams[i]) for i in range(len(pos_mu_prams))]"
   ]
  },
  {
   "cell_type": "code",
   "execution_count": 52,
   "id": "b1f9bce3-4037-41e6-ab47-d28e95e8097f",
   "metadata": {},
   "outputs": [],
   "source": [
    "flatten_pos_pram_tp = [flatten(pos_mu_prams_tp[i]) for i in range(len(pos_mu_prams_tp))]"
   ]
  },
  {
   "cell_type": "code",
   "execution_count": 53,
   "id": "0954b076-a356-42d9-a502-9f9b1a72c9e7",
   "metadata": {},
   "outputs": [],
   "source": [
    "flatten_pos_tp = [flatten(new_positive_mu_tp[i]) for i in range(len(new_positive_mu_tp))]"
   ]
  },
  {
   "cell_type": "code",
   "execution_count": 54,
   "id": "59a6bf97-1b51-4213-a110-cb5f9c1519ba",
   "metadata": {},
   "outputs": [],
   "source": [
    "flatten_pos_reco = flatten(reco_event_1_pos)"
   ]
  },
  {
   "cell_type": "code",
   "execution_count": 55,
   "id": "765f63e7-0173-478e-b38a-ba97f045aa57",
   "metadata": {},
   "outputs": [],
   "source": [
    "flatten_neg_reco = flatten(reco_event_1_neg)"
   ]
  },
  {
   "cell_type": "code",
   "execution_count": 56,
   "id": "504eaeaf-d884-4b67-a214-2e53fca89094",
   "metadata": {},
   "outputs": [],
   "source": [
    "flatten_pos_reco_parameters = flatten(reco_event_1_pos_parameters)"
   ]
  },
  {
   "cell_type": "code",
   "execution_count": 57,
   "id": "b4159f9d-1264-4e89-813a-a09fc7d48d3b",
   "metadata": {},
   "outputs": [
    {
     "data": {
      "text/plain": [
       "60804290"
      ]
     },
     "execution_count": 57,
     "metadata": {},
     "output_type": "execute_result"
    }
   ],
   "source": [
    "len(flatten_pos_reco)"
   ]
  },
  {
   "cell_type": "code",
   "execution_count": 58,
   "id": "3a72a3f3-fd19-4c05-9545-1ef7004764c5",
   "metadata": {},
   "outputs": [
    {
     "data": {
      "text/plain": [
       "60804290"
      ]
     },
     "execution_count": 58,
     "metadata": {},
     "output_type": "execute_result"
    }
   ],
   "source": [
    "len(flatten_neg_reco)"
   ]
  },
  {
   "cell_type": "code",
   "execution_count": 59,
   "id": "b0dbf6dd-c1b0-469f-92c8-18d8bdf8775c",
   "metadata": {},
   "outputs": [
    {
     "data": {
      "text/plain": [
       "1039665"
      ]
     },
     "execution_count": 59,
     "metadata": {},
     "output_type": "execute_result"
    }
   ],
   "source": [
    "len(reco_event_1_pos)"
   ]
  },
  {
   "cell_type": "code",
   "execution_count": 60,
   "id": "c0f2d826-af88-47fc-a4f5-c679b3282454",
   "metadata": {},
   "outputs": [
    {
     "data": {
      "text/plain": [
       "60804290"
      ]
     },
     "execution_count": 60,
     "metadata": {},
     "output_type": "execute_result"
    }
   ],
   "source": [
    "len(flatten_pos_reco_parameters)"
   ]
  },
  {
   "cell_type": "code",
   "execution_count": 61,
   "id": "1971bd4d-1106-4339-965f-7e497a4c424c",
   "metadata": {},
   "outputs": [],
   "source": [
    "flatten_neg_reco_parameters = flatten(reco_event_1_neg_parameters)"
   ]
  },
  {
   "cell_type": "code",
   "execution_count": null,
   "id": "ceccf3f6-e239-4bd9-8be2-072d40a8377b",
   "metadata": {},
   "outputs": [],
   "source": []
  },
  {
   "cell_type": "code",
   "execution_count": null,
   "id": "d4058ed2-6068-425f-93ec-e25552c2ea37",
   "metadata": {},
   "outputs": [],
   "source": []
  },
  {
   "cell_type": "code",
   "execution_count": 90,
   "id": "a0bcd911-def8-4138-a51c-18b24eb06472",
   "metadata": {},
   "outputs": [
    {
     "data": {
      "text/plain": [
       "{'rho': 2.4567391872406006,\n",
       " 'phi': -0.43091803789138794,\n",
       " 'eta': 0.21131443977355957,\n",
       " 'tau': 0.1056583755}"
      ]
     },
     "execution_count": 90,
     "metadata": {},
     "output_type": "execute_result"
    }
   ],
   "source": [
    "flatten_neg_reco[0]"
   ]
  },
  {
   "cell_type": "code",
   "execution_count": 193,
   "id": "23f52145-49c0-42c6-89a5-4ad3eaa19131",
   "metadata": {},
   "outputs": [],
   "source": [
    "# flatten_neg_reco_1 = flatten(flatten_neg_reco)"
   ]
  },
  {
   "cell_type": "code",
   "execution_count": 194,
   "id": "3d398208-50ad-46b5-aa6d-dde55eaa607a",
   "metadata": {},
   "outputs": [
    {
     "data": {
      "text/plain": [
       "243217160"
      ]
     },
     "execution_count": 194,
     "metadata": {},
     "output_type": "execute_result"
    }
   ],
   "source": [
    "# len(flatten_neg_reco_1)"
   ]
  },
  {
   "cell_type": "code",
   "execution_count": 61,
   "id": "b70ddf4f-2838-4aae-897c-38348dc4ba5a",
   "metadata": {},
   "outputs": [],
   "source": [
    "momentum_array = []\n",
    "for i in range(len(new_negative_mu)):\n",
    "    momentum_array.append(list(np.array(flatten_pos[i])+np.array(new_negative_mu[i])))"
   ]
  },
  {
   "cell_type": "code",
   "execution_count": 62,
   "id": "7c3e0c88-e061-4ca2-8e0f-2316c7b2540d",
   "metadata": {},
   "outputs": [],
   "source": [
    "momentum_array_tp = []\n",
    "for i in range(len(new_negative_mu_tp)):\n",
    "    momentum_array_tp.append(list(np.array(flatten_pos_tp[i])+np.array(new_negative_mu_tp[i])))"
   ]
  },
  {
   "cell_type": "code",
   "execution_count": 63,
   "id": "916c02b7-698f-4b18-8555-2fd15a7d2b7c",
   "metadata": {},
   "outputs": [],
   "source": [
    "# momentum_array_reco = []\n",
    "# for i in range(len(flatten_pos_reco)):\n",
    "#     momentum_array_reco.append(flatten_pos_reco[i]+flatten_neg_reco[i])"
   ]
  },
  {
   "cell_type": "code",
   "execution_count": 64,
   "id": "37a959a8-321e-434e-aa42-1dda36fea2ff",
   "metadata": {},
   "outputs": [
    {
     "data": {
      "text/plain": [
       "1554"
      ]
     },
     "execution_count": 64,
     "metadata": {},
     "output_type": "execute_result"
    }
   ],
   "source": [
    "len(momentum_array_tp)"
   ]
  },
  {
   "cell_type": "code",
   "execution_count": 65,
   "id": "95d87ad0-2f69-4f30-816c-1666dbcaa66a",
   "metadata": {},
   "outputs": [],
   "source": [
    "momentum_flattened = flatten(momentum_array)"
   ]
  },
  {
   "cell_type": "code",
   "execution_count": 66,
   "id": "9d932dd4-6660-478c-9d46-5f66cc8ecf15",
   "metadata": {},
   "outputs": [],
   "source": [
    "momentum_flattened_tp = flatten(momentum_array_tp)"
   ]
  },
  {
   "cell_type": "code",
   "execution_count": 96,
   "id": "469d29ea-c475-4269-8ef9-2b7fdacc8782",
   "metadata": {},
   "outputs": [
    {
     "data": {
      "text/plain": [
       "60804290"
      ]
     },
     "execution_count": 96,
     "metadata": {},
     "output_type": "execute_result"
    }
   ],
   "source": [
    "len(z0_cut )"
   ]
  },
  {
   "cell_type": "code",
   "execution_count": 98,
   "id": "6f86ea09-cb3c-4652-a42d-864cd93b9bfe",
   "metadata": {},
   "outputs": [],
   "source": [
    "flatten_pos_reco_array = np.array(flatten_pos_reco)"
   ]
  },
  {
   "cell_type": "code",
   "execution_count": 101,
   "id": "d29466aa-ced9-40e3-9b59-f633428864d4",
   "metadata": {},
   "outputs": [],
   "source": [
    "flatten_neg_reco_array = np.array(flatten_neg_reco)"
   ]
  },
  {
   "cell_type": "code",
   "execution_count": null,
   "id": "4f7d4716-ef4d-4c93-b8b9-a92f76df003c",
   "metadata": {},
   "outputs": [],
   "source": [
    "delta_z0_reco = []\n",
    "for i in range(len(flatten_neg_reco_parameters)):\n",
    "    delta_z0_reco.append(flatten_neg_reco_parameters[i][0]-flatten_pos_reco_parameters[i][0])"
   ]
  },
  {
   "cell_type": "code",
   "execution_count": null,
   "id": "dac2c5c6-ce40-41e1-8a2a-adc4c9d27fc0",
   "metadata": {},
   "outputs": [],
   "source": [
    "delta_z0_reco_array = np.array(delta_z0_reco)"
   ]
  },
  {
   "cell_type": "code",
   "execution_count": null,
   "id": "ef87807a-ed28-4d4a-8146-a1e15dcedbc8",
   "metadata": {},
   "outputs": [],
   "source": [
    "z0_cut_below = delta_z0_reco_array>-0.5\n",
    "z0_cut_above = delta_z0_reco_array<0.5\n",
    "\n",
    "z0_cut = np.logical_and(z0_cut_below,z0_cut_above)"
   ]
  },
  {
   "cell_type": "code",
   "execution_count": 99,
   "id": "beccdde2-9a82-4877-a329-6e715c5cfd19",
   "metadata": {},
   "outputs": [],
   "source": [
    "reco_pos_z0_cut = flatten_pos_reco_array[z0_cut]"
   ]
  },
  {
   "cell_type": "code",
   "execution_count": 102,
   "id": "8f98e7c7-8d49-4f07-b901-f923c5861089",
   "metadata": {},
   "outputs": [],
   "source": [
    "reco_neg_z0_cut = flatten_neg_reco_array[z0_cut]"
   ]
  },
  {
   "cell_type": "code",
   "execution_count": 103,
   "id": "e1e357c6-4ac1-4165-a48d-33165096cb49",
   "metadata": {},
   "outputs": [
    {
     "data": {
      "text/plain": [
       "6426137"
      ]
     },
     "execution_count": 103,
     "metadata": {},
     "output_type": "execute_result"
    }
   ],
   "source": [
    "len(reco_neg_z0_cut)"
   ]
  },
  {
   "cell_type": "code",
   "execution_count": 67,
   "id": "4e1fb4dc-8721-440f-afc5-1f13b8b7ce6a",
   "metadata": {},
   "outputs": [],
   "source": [
    "invariant_mass = []\n",
    "for i in range(len(momentum_flattened)):\n",
    "    invariant_mass.append(momentum_flattened[i].mass)"
   ]
  },
  {
   "cell_type": "code",
   "execution_count": 68,
   "id": "26f8dd25-55f7-4aab-9519-6015c7768a35",
   "metadata": {},
   "outputs": [],
   "source": [
    "# invariant_mass_reco = []\n",
    "# for i in range(len(momentum_array_reco)):\n",
    "#     invariant_mass_reco.append(momentum_array_reco[i].mass)"
   ]
  },
  {
   "cell_type": "code",
   "execution_count": 69,
   "id": "a0774f37-32d9-4122-8905-16721f693921",
   "metadata": {},
   "outputs": [],
   "source": [
    "invariant_mass_tp = []\n",
    "for i in range(len(momentum_flattened_tp)):\n",
    "    invariant_mass_tp.append(momentum_flattened_tp[i].mass)"
   ]
  },
  {
   "cell_type": "code",
   "execution_count": 70,
   "id": "8292c072-5d00-4f1e-8940-22ce2ed5fbbe",
   "metadata": {},
   "outputs": [],
   "source": [
    "pt_tp = []\n",
    "for i in range(len(momentum_flattened_tp)):\n",
    "    pt_tp.append(momentum_flattened_tp[i].pt)"
   ]
  },
  {
   "cell_type": "code",
   "execution_count": 71,
   "id": "128ce3fa-1222-4b17-9eac-da543ace4144",
   "metadata": {},
   "outputs": [],
   "source": [
    "pt = []\n",
    "for i in range(len(momentum_flattened)):\n",
    "    pt.append(momentum_flattened[i].pt)"
   ]
  },
  {
   "cell_type": "code",
   "execution_count": 72,
   "id": "d768f8d0-cf99-41db-8cc1-c838762084e1",
   "metadata": {},
   "outputs": [],
   "source": [
    "# pt_reco = []\n",
    "# for i in range(len(momentum_array_reco)):\n",
    "#     pt_reco.append(momentum_array_reco[i].pt)"
   ]
  },
  {
   "cell_type": "code",
   "execution_count": 73,
   "id": "259e3abe-2c0f-464f-9a85-ccbab8fe6234",
   "metadata": {},
   "outputs": [],
   "source": [
    "# len(pt_reco)"
   ]
  },
  {
   "cell_type": "code",
   "execution_count": 74,
   "id": "ac30505a-9d57-4ef4-be15-0e725a43653f",
   "metadata": {},
   "outputs": [],
   "source": [
    "neg_prams_list = []\n",
    "for i in range(len(neg_mu_prams)):\n",
    "    sub_list = []\n",
    "    for j in neg_mu_prams[i]:\n",
    "        sub_list.append(j.tolist())\n",
    "        \n",
    "    neg_prams_list.append(sub_list)"
   ]
  },
  {
   "cell_type": "code",
   "execution_count": 75,
   "id": "ea1df1ba-2be0-4720-9616-edd12d5d2687",
   "metadata": {},
   "outputs": [],
   "source": [
    "neg_prams_list_tp = []\n",
    "for i in range(len(neg_mu_prams_tp)):\n",
    "    sub_list = []\n",
    "    for j in neg_mu_prams_tp[i]:\n",
    "        sub_list.append(j.tolist())\n",
    "        \n",
    "    neg_prams_list_tp.append(sub_list)"
   ]
  },
  {
   "cell_type": "code",
   "execution_count": 76,
   "id": "3277058c-9a82-4bb5-8452-3ffea03de08f",
   "metadata": {},
   "outputs": [],
   "source": [
    "pos_prams_list = []\n",
    "for i in range(len(flatten_pos_pram)):\n",
    "    sub_list = []\n",
    "    for j in flatten_pos_pram[i]:\n",
    "        sub_list.append(j.tolist())\n",
    "        \n",
    "    pos_prams_list.append(sub_list)"
   ]
  },
  {
   "cell_type": "code",
   "execution_count": 77,
   "id": "b719ec59-9914-44d5-a862-c972df737dc6",
   "metadata": {},
   "outputs": [],
   "source": [
    "pos_prams_list_tp = []\n",
    "for i in range(len(flatten_pos_pram_tp)):\n",
    "    sub_list = []\n",
    "    for j in flatten_pos_pram_tp[i]:\n",
    "        sub_list.append(j.tolist())\n",
    "        \n",
    "    pos_prams_list_tp.append(sub_list)"
   ]
  },
  {
   "cell_type": "code",
   "execution_count": null,
   "id": "82885703-b085-4ac0-b6bf-ad61b3d22236",
   "metadata": {},
   "outputs": [],
   "source": []
  },
  {
   "cell_type": "code",
   "execution_count": 78,
   "id": "c9d7dbec-6bca-4080-94c3-a457a3b96456",
   "metadata": {},
   "outputs": [
    {
     "data": {
      "text/plain": [
       "[[-2.2265625, -999.0], [4.98046875, -999.0]]"
      ]
     },
     "execution_count": 78,
     "metadata": {},
     "output_type": "execute_result"
    }
   ],
   "source": [
    "neg_prams_list[0]"
   ]
  },
  {
   "cell_type": "code",
   "execution_count": null,
   "id": "e867065c-4a5c-4540-84ae-13c070215450",
   "metadata": {},
   "outputs": [],
   "source": []
  },
  {
   "cell_type": "code",
   "execution_count": 80,
   "id": "b890139f-2a58-4613-a4f5-827dfc60f52f",
   "metadata": {},
   "outputs": [],
   "source": [
    "all_z0_pos = []\n",
    "for i in range(len(pos_prams_list)):\n",
    "    event_array = []\n",
    "    for j in range(len(pos_prams_list[i])):\n",
    "        event_array.append(pos_prams_list[i][j][0])\n",
    "    all_z0_pos.append(event_array)\n",
    "    \n",
    "all_z0_neg = []\n",
    "for i in range(len(neg_prams_list)):\n",
    "    event_array = []\n",
    "    for j in range(len(neg_prams_list[i])):\n",
    "        event_array.append(neg_prams_list[i][j][0])\n",
    "    all_z0_neg.append(event_array)"
   ]
  },
  {
   "cell_type": "code",
   "execution_count": 81,
   "id": "0d5cbda1-3de9-4aa3-ab08-2efc74b78fd0",
   "metadata": {},
   "outputs": [],
   "source": [
    "all_z0_pos_tp = []\n",
    "for i in range(len(pos_prams_list_tp)):\n",
    "    event_array = []\n",
    "    for j in range(len(pos_prams_list_tp[i])):\n",
    "        event_array.append(pos_prams_list_tp[i][j][0])\n",
    "    all_z0_pos_tp.append(event_array)\n",
    "    \n",
    "all_z0_neg_tp = []\n",
    "for i in range(len(neg_prams_list_tp)):\n",
    "    event_array = []\n",
    "    for j in range(len(neg_prams_list_tp[i])):\n",
    "        event_array.append(neg_prams_list_tp[i][j][0])\n",
    "    all_z0_neg_tp.append(event_array)"
   ]
  },
  {
   "cell_type": "code",
   "execution_count": null,
   "id": "a042a610-c731-4419-b20d-4fb79d1ee395",
   "metadata": {},
   "outputs": [],
   "source": []
  },
  {
   "cell_type": "code",
   "execution_count": 82,
   "id": "f17d5fab-197f-4c3d-85b8-5b68181dffa7",
   "metadata": {},
   "outputs": [
    {
     "data": {
      "text/plain": [
       "2030"
      ]
     },
     "execution_count": 82,
     "metadata": {},
     "output_type": "execute_result"
    }
   ],
   "source": [
    "len(invariant_mass)"
   ]
  },
  {
   "cell_type": "code",
   "execution_count": 83,
   "id": "d1d2eb12-50c7-4403-b2a8-effad850dd9f",
   "metadata": {},
   "outputs": [],
   "source": [
    "invariant_mass_array = np.array(invariant_mass)\n",
    "negative_flatten = flatten(new_negative_mu)\n",
    "positive_flatten = flatten(flatten_pos)\n",
    "\n",
    "negative_array = np.array(negative_flatten)\n",
    "positive_array = np.array(positive_flatten)\n",
    "\n",
    "\n",
    "larger_background = invariant_mass_array>3.2\n",
    "smaller_background = invariant_mass_array<3.0\n",
    "\n",
    "lower_J_range = invariant_mass_array>3.0\n",
    "upper_J_range = invariant_mass_array<3.2"
   ]
  },
  {
   "cell_type": "code",
   "execution_count": 84,
   "id": "073ff5b1-6a75-44ee-9ec4-671385d4eb49",
   "metadata": {},
   "outputs": [],
   "source": [
    "J_range_truth = np.logical_and(lower_J_range,upper_J_range)\n",
    "background_range_truth = np.logical_or(larger_background,smaller_background)"
   ]
  },
  {
   "cell_type": "code",
   "execution_count": 85,
   "id": "12f54856-a80a-4400-a644-512b30743e91",
   "metadata": {},
   "outputs": [],
   "source": [
    "invariant_mass_signal = invariant_mass_array[J_range_truth]\n",
    "negative_mu_signal = negative_array[J_range_truth]\n",
    "positive_mu_signal = positive_array[J_range_truth]"
   ]
  },
  {
   "cell_type": "code",
   "execution_count": 86,
   "id": "0cdc4664-7c74-456a-afdb-491848756fb9",
   "metadata": {},
   "outputs": [],
   "source": [
    "negative_mu_background = negative_array[background_range_truth]\n",
    "positive_mu_background = positive_array[background_range_truth]"
   ]
  },
  {
   "cell_type": "code",
   "execution_count": 87,
   "id": "e4105317-db20-4b85-9681-81542d9500cc",
   "metadata": {},
   "outputs": [],
   "source": [
    "eta_neg_signal = []\n",
    "for i in range(len(negative_mu_signal)):\n",
    "    eta_neg_signal.append(negative_mu_signal[i].eta)\n",
    "        \n",
    "phi_neg_signal = []\n",
    "for i in range(len(negative_mu_signal)):\n",
    "    phi_neg_signal.append(negative_mu_signal[i].phi)\n",
    "        \n",
    "pt_neg_signal = []\n",
    "for i in range(len(negative_mu_signal)):\n",
    "    pt_neg_signal.append(negative_mu_signal[i].pt)"
   ]
  },
  {
   "cell_type": "code",
   "execution_count": 88,
   "id": "c70a5dbd-e3ba-4a7b-aa0d-50c49908bdc2",
   "metadata": {},
   "outputs": [],
   "source": [
    "eta_neg_background = []\n",
    "for i in range(len(negative_mu_background)):\n",
    "    eta_neg_background.append(negative_mu_background[i].eta)\n",
    "        \n",
    "phi_neg_background = []\n",
    "for i in range(len(negative_mu_background)):\n",
    "    phi_neg_background.append(negative_mu_background[i].phi)\n",
    "        \n",
    "pt_neg_background = []\n",
    "for i in range(len(negative_mu_background)):\n",
    "    pt_neg_background.append(negative_mu_background[i].pt)"
   ]
  },
  {
   "cell_type": "code",
   "execution_count": 89,
   "id": "04f5eefa-9b39-4d8b-95e4-ceb6a9c8ce99",
   "metadata": {},
   "outputs": [],
   "source": [
    "eta_pos_signal = []\n",
    "for i in range(len(positive_mu_signal)):\n",
    "    eta_pos_signal.append(positive_mu_signal[i].eta)\n",
    "        \n",
    "phi_pos_signal = []\n",
    "for i in range(len(positive_mu_signal)):\n",
    "    phi_pos_signal.append(positive_mu_signal[i].phi)\n",
    "        \n",
    "pt_pos_signal = []\n",
    "for i in range(len(positive_mu_signal)):\n",
    "    pt_pos_signal.append(positive_mu_signal[i].pt)"
   ]
  },
  {
   "cell_type": "code",
   "execution_count": 90,
   "id": "4b03d21b-0dce-4101-9ad1-0fe983d5c14f",
   "metadata": {},
   "outputs": [],
   "source": [
    "eta_pos_background = []\n",
    "for i in range(len(positive_mu_background)):\n",
    "    eta_pos_background.append(positive_mu_background[i].eta)\n",
    "        \n",
    "phi_pos_background = []\n",
    "for i in range(len(positive_mu_background)):\n",
    "    phi_pos_background.append(positive_mu_background[i].phi)\n",
    "        \n",
    "pt_pos_background = []\n",
    "for i in range(len(positive_mu_background)):\n",
    "    pt_pos_background.append(positive_mu_background[i].pt)"
   ]
  },
  {
   "cell_type": "code",
   "execution_count": 105,
   "id": "9374a4d9-9386-4415-bfdb-9725aa6404af",
   "metadata": {},
   "outputs": [
    {
     "data": {
      "text/plain": [
       "0.21131443977355957"
      ]
     },
     "execution_count": 105,
     "metadata": {},
     "output_type": "execute_result"
    }
   ],
   "source": [
    "reco_pos_z0_cut[0].eta"
   ]
  },
  {
   "cell_type": "code",
   "execution_count": null,
   "id": "408e0ceb-1b35-42c6-ac4f-251218cb462f",
   "metadata": {},
   "outputs": [],
   "source": []
  },
  {
   "cell_type": "code",
   "execution_count": null,
   "id": "851f9957-723b-4a52-bba3-70f99d28f235",
   "metadata": {},
   "outputs": [],
   "source": []
  },
  {
   "cell_type": "code",
   "execution_count": 106,
   "id": "39563761-8b0d-459b-964a-c9d3041d3d1f",
   "metadata": {},
   "outputs": [],
   "source": [
    "eta_neg_reco = []\n",
    "for i in range(len(reco_pos_z0_cut)):\n",
    "    eta_neg_reco.append(reco_pos_z0_cut[i].eta)"
   ]
  },
  {
   "cell_type": "code",
   "execution_count": 109,
   "id": "6357467c-7a58-4cc8-8d58-77f303999790",
   "metadata": {},
   "outputs": [],
   "source": [
    "eta_pos_reco = []\n",
    "for i in range(len(reco_neg_z0_cut)):\n",
    "    eta_pos_reco.append(reco_neg_z0_cut[i].eta)"
   ]
  },
  {
   "cell_type": "code",
   "execution_count": 110,
   "id": "6c0b5d82-d683-4f95-a8a2-c3b6c79da964",
   "metadata": {},
   "outputs": [
    {
     "data": {
      "text/plain": [
       "6426137"
      ]
     },
     "execution_count": 110,
     "metadata": {},
     "output_type": "execute_result"
    }
   ],
   "source": [
    "len(eta_pos_reco)"
   ]
  },
  {
   "cell_type": "code",
   "execution_count": 113,
   "id": "5d310c54-d322-4094-9db3-bccf1a10698c",
   "metadata": {},
   "outputs": [
    {
     "data": {
      "text/plain": [
       "6426137"
      ]
     },
     "execution_count": 113,
     "metadata": {},
     "output_type": "execute_result"
    }
   ],
   "source": [
    "len(np.array(eta_neg_reco)-1)"
   ]
  },
  {
   "cell_type": "code",
   "execution_count": 140,
   "id": "a6a9cea7-a896-445d-940b-b30c59513d18",
   "metadata": {},
   "outputs": [],
   "source": [
    "delta_eta_reco = np.abs(np.array(eta_pos_reco))-np.abs(np.array(eta_neg_reco))"
   ]
  },
  {
   "cell_type": "code",
   "execution_count": 126,
   "id": "92f2ede6-29f4-40dc-8992-0f76ad2ba085",
   "metadata": {},
   "outputs": [],
   "source": [
    "delta_eta_reco_array = np.array(delta_eta_reco)"
   ]
  },
  {
   "cell_type": "code",
   "execution_count": 127,
   "id": "9422490e-5ce2-4ba4-aedf-789b3dd81d07",
   "metadata": {},
   "outputs": [],
   "source": [
    "eta_cut_below = delta_eta_reco_array>-1\n",
    "eta_cut_above = delta_eta_reco_array<1\n",
    "eta_cut = np.logical_and(eta_cut_below,eta_cut_above)"
   ]
  },
  {
   "cell_type": "code",
   "execution_count": 131,
   "id": "c4f8585c-4a6c-4886-9e07-96f2e80f5b46",
   "metadata": {},
   "outputs": [],
   "source": [
    "reco_pos_z0_eta_cut = reco_pos_z0_cut[eta_cut]"
   ]
  },
  {
   "cell_type": "code",
   "execution_count": 132,
   "id": "686608d5-bcc0-4ab2-9903-b7f7830b2f72",
   "metadata": {},
   "outputs": [],
   "source": [
    "reco_neg_z0_eta_cut = reco_neg_z0_cut[eta_cut]"
   ]
  },
  {
   "cell_type": "code",
   "execution_count": 133,
   "id": "12333a98-8c2b-4292-99a3-d5ab7cb1215d",
   "metadata": {},
   "outputs": [
    {
     "data": {
      "text/plain": [
       "4689451"
      ]
     },
     "execution_count": 133,
     "metadata": {},
     "output_type": "execute_result"
    }
   ],
   "source": [
    "len(reco_pos_z0_eta_cut)"
   ]
  },
  {
   "cell_type": "code",
   "execution_count": 134,
   "id": "0e19324c-36c9-428d-bb2e-9f1c84f565a8",
   "metadata": {},
   "outputs": [
    {
     "data": {
      "text/plain": [
       "4689451"
      ]
     },
     "execution_count": 134,
     "metadata": {},
     "output_type": "execute_result"
    }
   ],
   "source": [
    "len(reco_neg_z0_eta_cut)"
   ]
  },
  {
   "cell_type": "code",
   "execution_count": 135,
   "id": "32858d70-0a6c-41f9-9de7-9eac888b4b14",
   "metadata": {},
   "outputs": [],
   "source": [
    "phi_pos_reco = []\n",
    "for i in range(len(reco_pos_z0_eta_cut)):\n",
    "    phi_pos_reco.append(reco_pos_z0_eta_cut[i].phi)"
   ]
  },
  {
   "cell_type": "code",
   "execution_count": 136,
   "id": "ef0bd961-35a4-4ade-a256-19bfd5c45305",
   "metadata": {},
   "outputs": [],
   "source": [
    "phi_neg_reco = []\n",
    "for i in range(len(reco_neg_z0_eta_cut)):\n",
    "    phi_neg_reco.append(reco_neg_z0_eta_cut[i].phi)"
   ]
  },
  {
   "cell_type": "code",
   "execution_count": 141,
   "id": "cc6e2ba8-b610-4e24-8fcb-08c4f60b231b",
   "metadata": {},
   "outputs": [],
   "source": [
    "delta_phi_reco = np.abs(np.array(phi_pos_reco))-np.abs(np.array(phi_neg_reco))"
   ]
  },
  {
   "cell_type": "code",
   "execution_count": 142,
   "id": "ef819e47-d27d-41f7-8f16-b89517b96955",
   "metadata": {},
   "outputs": [],
   "source": [
    "delta_phi_reco_array = np.array(delta_phi_reco)"
   ]
  },
  {
   "cell_type": "code",
   "execution_count": 143,
   "id": "1da4c0b2-3494-48bf-8c78-037dd3084c32",
   "metadata": {},
   "outputs": [
    {
     "data": {
      "text/plain": [
       "4689451"
      ]
     },
     "execution_count": 143,
     "metadata": {},
     "output_type": "execute_result"
    }
   ],
   "source": [
    "len(delta_phi_reco)"
   ]
  },
  {
   "cell_type": "code",
   "execution_count": 144,
   "id": "6ba41efd-6bce-420b-805f-dcf6bd4b465b",
   "metadata": {},
   "outputs": [],
   "source": [
    "phi_cut_below = delta_phi_reco_array>-1\n",
    "phi_cut_above = delta_phi_reco_array<1\n",
    "\n",
    "phi_cut = np.logical_and(phi_cut_below,phi_cut_above)"
   ]
  },
  {
   "cell_type": "code",
   "execution_count": 145,
   "id": "86b78713-ea3e-43b6-ac28-f25a11c0dae4",
   "metadata": {},
   "outputs": [],
   "source": [
    "reco_pos_z0_eta_phi_cut = reco_pos_z0_eta_cut[phi_cut]"
   ]
  },
  {
   "cell_type": "code",
   "execution_count": 146,
   "id": "c7b704cd-d05a-44a0-9f0a-0a791a2c5a47",
   "metadata": {},
   "outputs": [],
   "source": [
    "reco_neg_z0_eta_phi_cut = reco_neg_z0_eta_cut[phi_cut]"
   ]
  },
  {
   "cell_type": "code",
   "execution_count": 147,
   "id": "ea18a082-4d3c-403d-a07e-e9998681c4d7",
   "metadata": {},
   "outputs": [
    {
     "data": {
      "text/plain": [
       "3056836"
      ]
     },
     "execution_count": 147,
     "metadata": {},
     "output_type": "execute_result"
    }
   ],
   "source": [
    "len(reco_pos_z0_eta_phi_cut)"
   ]
  },
  {
   "cell_type": "code",
   "execution_count": 148,
   "id": "c5c56838-a337-4c67-9820-77ab4a11bc16",
   "metadata": {},
   "outputs": [
    {
     "data": {
      "text/plain": [
       "3056836"
      ]
     },
     "execution_count": 148,
     "metadata": {},
     "output_type": "execute_result"
    }
   ],
   "source": [
    "len(reco_neg_z0_eta_phi_cut)"
   ]
  },
  {
   "cell_type": "code",
   "execution_count": 149,
   "id": "a20c30c9-b6d1-49bf-aee5-a08e1751c7f6",
   "metadata": {},
   "outputs": [],
   "source": [
    "pt_neg_reco = []\n",
    "for i in range(len(reco_neg_z0_eta_phi_cut)):\n",
    "    pt_neg_reco.append(reco_neg_z0_eta_phi_cut[i].pt)"
   ]
  },
  {
   "cell_type": "code",
   "execution_count": 150,
   "id": "7a2b9401-e74b-4bd1-9966-9e8f5f681768",
   "metadata": {},
   "outputs": [
    {
     "data": {
      "text/plain": [
       "3056836"
      ]
     },
     "execution_count": 150,
     "metadata": {},
     "output_type": "execute_result"
    }
   ],
   "source": [
    "len(pt_neg_reco)"
   ]
  },
  {
   "cell_type": "code",
   "execution_count": 151,
   "id": "4da92f96-58b8-4137-9a3b-4fafc6f174ce",
   "metadata": {},
   "outputs": [],
   "source": [
    "pt_pos_reco = []\n",
    "for i in range(len(reco_pos_z0_eta_phi_cut)):\n",
    "    pt_pos_reco.append(reco_pos_z0_eta_phi_cut[i].pt)"
   ]
  },
  {
   "cell_type": "code",
   "execution_count": 152,
   "id": "0148711c-e709-42ff-a1b9-6d79db6fc067",
   "metadata": {},
   "outputs": [
    {
     "data": {
      "text/plain": [
       "3056836"
      ]
     },
     "execution_count": 152,
     "metadata": {},
     "output_type": "execute_result"
    }
   ],
   "source": [
    "len(pt_pos_reco)"
   ]
  },
  {
   "cell_type": "code",
   "execution_count": 153,
   "id": "7ee6a631-225a-49b4-b491-40ee897af8a6",
   "metadata": {},
   "outputs": [],
   "source": [
    "higher_pt_reco = []\n",
    "lower_pt_reco = []\n",
    "for i in range(len(pt_neg_reco)):\n",
    "    if pt_neg_reco[i]>pt_pos_reco[i]:\n",
    "        higher_pt_reco.append(pt_neg_reco[i])\n",
    "        lower_pt_reco.append(pt_pos_reco[i])\n",
    "    else:\n",
    "        higher_pt_reco.append(pt_pos_reco[i])\n",
    "        lower_pt_reco.append(pt_neg_reco[i])"
   ]
  },
  {
   "cell_type": "code",
   "execution_count": 154,
   "id": "1ec56c6e-5235-4241-a059-8bee13f86136",
   "metadata": {},
   "outputs": [],
   "source": [
    "higher_pt_reco_array = np.array(higher_pt_reco)"
   ]
  },
  {
   "cell_type": "code",
   "execution_count": 158,
   "id": "61b6cc72-7460-403d-883a-bcfd98ab9466",
   "metadata": {},
   "outputs": [
    {
     "data": {
      "text/plain": [
       "3056836"
      ]
     },
     "execution_count": 158,
     "metadata": {},
     "output_type": "execute_result"
    }
   ],
   "source": [
    "len(higher_pt_reco_array)"
   ]
  },
  {
   "cell_type": "code",
   "execution_count": 155,
   "id": "a1ce9d2f-e044-47f9-a6ee-759d4d35870b",
   "metadata": {},
   "outputs": [],
   "source": [
    "pt_cut = higher_pt_reco_array>3"
   ]
  },
  {
   "cell_type": "code",
   "execution_count": 159,
   "id": "d221f054-15ee-4176-8bfd-17e1513b9038",
   "metadata": {},
   "outputs": [
    {
     "data": {
      "text/plain": [
       "3056836"
      ]
     },
     "execution_count": 159,
     "metadata": {},
     "output_type": "execute_result"
    }
   ],
   "source": [
    "len(pt_cut)"
   ]
  },
  {
   "cell_type": "code",
   "execution_count": 160,
   "id": "1a1ff6ae-d084-495e-b3c5-68d3e7d21840",
   "metadata": {},
   "outputs": [
    {
     "data": {
      "text/plain": [
       "3056836"
      ]
     },
     "execution_count": 160,
     "metadata": {},
     "output_type": "execute_result"
    }
   ],
   "source": [
    "len(reco_neg_z0_eta_phi_cut)"
   ]
  },
  {
   "cell_type": "code",
   "execution_count": 161,
   "id": "2347458f-824b-4751-b231-dc90c5f02f32",
   "metadata": {},
   "outputs": [],
   "source": [
    "reco_neg_z0_eta_phi_pt_cut = reco_neg_z0_eta_phi_cut[pt_cut]"
   ]
  },
  {
   "cell_type": "code",
   "execution_count": 163,
   "id": "56220249-deaf-4486-9c4d-863eef4cacce",
   "metadata": {},
   "outputs": [
    {
     "data": {
      "text/plain": [
       "1232317"
      ]
     },
     "execution_count": 163,
     "metadata": {},
     "output_type": "execute_result"
    }
   ],
   "source": [
    "len(reco_neg_z0_eta_phi_pt_cut)"
   ]
  },
  {
   "cell_type": "code",
   "execution_count": 162,
   "id": "29253a86-8e0a-41ae-a19e-dc43f47ff3d6",
   "metadata": {},
   "outputs": [],
   "source": [
    "reco_pos_z0_eta_phi_pt_cut = reco_pos_z0_eta_phi_cut[pt_cut]"
   ]
  },
  {
   "cell_type": "code",
   "execution_count": 172,
   "id": "2b9bd420-4ded-462f-bba6-d0a6d987525c",
   "metadata": {},
   "outputs": [
    {
     "data": {
      "text/html": [
       "<pre>{rho: 3.22,\n",
       " phi: -0.217,\n",
       " eta: 0.742,\n",
       " tau: 0.106}\n",
       "-----------------\n",
       "type: Momentum4D[\n",
       "    rho: float64,\n",
       "    phi: float64,\n",
       "    eta: float64,\n",
       "    tau: float64\n",
       "]</pre>"
      ],
      "text/plain": [
       "<MomentumRecord4D {rho: 3.22, phi: -0.217, eta: ..., ...} type='Momentum4D[...'>"
      ]
     },
     "execution_count": 172,
     "metadata": {},
     "output_type": "execute_result"
    }
   ],
   "source": [
    "reco_pos_z0_eta_phi_pt_cut[2]"
   ]
  },
  {
   "cell_type": "code",
   "execution_count": 173,
   "id": "8f872ef8-944c-452d-9627-dc9b1cd36ec0",
   "metadata": {},
   "outputs": [
    {
     "data": {
      "text/html": [
       "<pre>{rho: 5.1,\n",
       " phi: -0.608,\n",
       " eta: 0.399,\n",
       " tau: 3.75}\n",
       "-----------------\n",
       "type: Momentum4D[\n",
       "    rho: float64,\n",
       "    phi: float64,\n",
       "    eta: float64,\n",
       "    tau: float64\n",
       "]</pre>"
      ],
      "text/plain": [
       "<MomentumRecord4D {rho: 5.1, phi: -0.608, eta: 0.399, ...} type='Momentum4D...'>"
      ]
     },
     "execution_count": 173,
     "metadata": {},
     "output_type": "execute_result"
    }
   ],
   "source": [
    "reco_neg_z0_eta_phi_pt_cut[2]+reco_pos_z0_eta_phi_pt_cut[2]"
   ]
  },
  {
   "cell_type": "code",
   "execution_count": 176,
   "id": "955b6971-63c8-4f38-93df-0599d0502adb",
   "metadata": {},
   "outputs": [
    {
     "data": {
      "text/html": [
       "<pre>{rho: 6.44,\n",
       " phi: -0.217,\n",
       " eta: 0.742,\n",
       " tau: 0.211}\n",
       "-----------------\n",
       "type: Momentum4D[\n",
       "    rho: float64,\n",
       "    phi: float64,\n",
       "    eta: float64,\n",
       "    tau: float64\n",
       "]</pre>"
      ],
      "text/plain": [
       "<MomentumRecord4D {rho: 6.44, phi: -0.217, eta: ..., ...} type='Momentum4D[...'>"
      ]
     },
     "execution_count": 176,
     "metadata": {},
     "output_type": "execute_result"
    }
   ],
   "source": [
    "np.array(reco_neg_z0_eta_phi_pt_cut[0])+np.array(reco_pos_z0_eta_phi_pt_cut[0])"
   ]
  },
  {
   "cell_type": "code",
   "execution_count": null,
   "id": "974a9568-0be2-4114-a47b-39eb980cbb00",
   "metadata": {},
   "outputs": [],
   "source": [
    "momentum_array_reco_new = np.array(reco_neg_z0_eta_phi_pt_cut)+np.array(reco_pos_z0_eta_phi_pt_cut)"
   ]
  },
  {
   "cell_type": "code",
   "execution_count": 174,
   "id": "5bea5035-0d88-4242-99cb-5414799f5dd3",
   "metadata": {},
   "outputs": [
    {
     "ename": "KeyboardInterrupt",
     "evalue": "",
     "output_type": "error",
     "traceback": [
      "\u001b[0;31m---------------------------------------------------------------------------\u001b[0m",
      "\u001b[0;31mKeyboardInterrupt\u001b[0m                         Traceback (most recent call last)",
      "Cell \u001b[0;32mIn[174], line 3\u001b[0m\n\u001b[1;32m      1\u001b[0m momentum_array_reco \u001b[38;5;241m=\u001b[39m []\n\u001b[1;32m      2\u001b[0m \u001b[38;5;28;01mfor\u001b[39;00m i \u001b[38;5;129;01min\u001b[39;00m \u001b[38;5;28mrange\u001b[39m(\u001b[38;5;28mlen\u001b[39m(reco_pos_z0_eta_phi_pt_cut)):\n\u001b[0;32m----> 3\u001b[0m     momentum_array_reco\u001b[38;5;241m.\u001b[39mappend(\u001b[43mreco_pos_z0_eta_phi_pt_cut\u001b[49m\u001b[43m[\u001b[49m\u001b[43mi\u001b[49m\u001b[43m]\u001b[49m\u001b[38;5;241;43m+\u001b[39;49m\u001b[43mreco_neg_z0_eta_phi_pt_cut\u001b[49m\u001b[43m[\u001b[49m\u001b[43mi\u001b[49m\u001b[43m]\u001b[49m)\n",
      "File \u001b[0;32m~/data_scouting/lib/python3.10/site-packages/numpy/lib/mixins.py:21\u001b[0m, in \u001b[0;36m_binary_method.<locals>.func\u001b[0;34m(self, other)\u001b[0m\n\u001b[1;32m     19\u001b[0m \u001b[38;5;28;01mif\u001b[39;00m _disables_array_ufunc(other):\n\u001b[1;32m     20\u001b[0m     \u001b[38;5;28;01mreturn\u001b[39;00m \u001b[38;5;28mNotImplemented\u001b[39m\n\u001b[0;32m---> 21\u001b[0m \u001b[38;5;28;01mreturn\u001b[39;00m \u001b[43mufunc\u001b[49m\u001b[43m(\u001b[49m\u001b[38;5;28;43mself\u001b[39;49m\u001b[43m,\u001b[49m\u001b[43m \u001b[49m\u001b[43mother\u001b[49m\u001b[43m)\u001b[49m\n",
      "File \u001b[0;32m~/data_scouting/lib/python3.10/site-packages/awkward/highlevel.py:2047\u001b[0m, in \u001b[0;36mRecord.__array_ufunc__\u001b[0;34m(self, ufunc, method, *inputs, **kwargs)\u001b[0m\n\u001b[1;32m   2045\u001b[0m arguments\u001b[38;5;241m.\u001b[39mupdate(kwargs)\n\u001b[1;32m   2046\u001b[0m \u001b[38;5;28;01mwith\u001b[39;00m ak\u001b[38;5;241m.\u001b[39m_errors\u001b[38;5;241m.\u001b[39mOperationErrorContext(name, arguments):\n\u001b[0;32m-> 2047\u001b[0m     \u001b[38;5;28;01mreturn\u001b[39;00m \u001b[43mak\u001b[49m\u001b[38;5;241;43m.\u001b[39;49m\u001b[43m_connect\u001b[49m\u001b[38;5;241;43m.\u001b[39;49m\u001b[43mnumpy\u001b[49m\u001b[38;5;241;43m.\u001b[39;49m\u001b[43marray_ufunc\u001b[49m\u001b[43m(\u001b[49m\u001b[43mufunc\u001b[49m\u001b[43m,\u001b[49m\u001b[43m \u001b[49m\u001b[43mmethod\u001b[49m\u001b[43m,\u001b[49m\u001b[43m \u001b[49m\u001b[43minputs\u001b[49m\u001b[43m,\u001b[49m\u001b[43m \u001b[49m\u001b[43mkwargs\u001b[49m\u001b[43m)\u001b[49m\n",
      "File \u001b[0;32m~/data_scouting/lib/python3.10/site-packages/awkward/_connect/numpy.py:305\u001b[0m, in \u001b[0;36marray_ufunc\u001b[0;34m(ufunc, method, inputs, kwargs)\u001b[0m\n\u001b[1;32m    296\u001b[0m     out \u001b[38;5;241m=\u001b[39m ak\u001b[38;5;241m.\u001b[39m_do\u001b[38;5;241m.\u001b[39mrecursively_apply(\n\u001b[1;32m    297\u001b[0m         inputs[where],\n\u001b[1;32m    298\u001b[0m         unary_action,\n\u001b[0;32m   (...)\u001b[0m\n\u001b[1;32m    301\u001b[0m         allow_records\u001b[38;5;241m=\u001b[39m\u001b[38;5;28;01mFalse\u001b[39;00m,\n\u001b[1;32m    302\u001b[0m     )\n\u001b[1;32m    304\u001b[0m \u001b[38;5;28;01melse\u001b[39;00m:\n\u001b[0;32m--> 305\u001b[0m     out \u001b[38;5;241m=\u001b[39m \u001b[43mak\u001b[49m\u001b[38;5;241;43m.\u001b[39;49m\u001b[43m_broadcasting\u001b[49m\u001b[38;5;241;43m.\u001b[39;49m\u001b[43mbroadcast_and_apply\u001b[49m\u001b[43m(\u001b[49m\n\u001b[1;32m    306\u001b[0m \u001b[43m        \u001b[49m\u001b[43minputs\u001b[49m\u001b[43m,\u001b[49m\u001b[43m \u001b[49m\u001b[43maction\u001b[49m\u001b[43m,\u001b[49m\u001b[43m \u001b[49m\u001b[43mbehavior\u001b[49m\u001b[43m,\u001b[49m\u001b[43m \u001b[49m\u001b[43mallow_records\u001b[49m\u001b[38;5;241;43m=\u001b[39;49m\u001b[38;5;28;43;01mFalse\u001b[39;49;00m\u001b[43m,\u001b[49m\u001b[43m \u001b[49m\u001b[43mfunction_name\u001b[49m\u001b[38;5;241;43m=\u001b[39;49m\u001b[43mufunc\u001b[49m\u001b[38;5;241;43m.\u001b[39;49m\u001b[38;5;18;43m__name__\u001b[39;49m\n\u001b[1;32m    307\u001b[0m \u001b[43m    \u001b[49m\u001b[43m)\u001b[49m\n\u001b[1;32m    308\u001b[0m     \u001b[38;5;28;01massert\u001b[39;00m \u001b[38;5;28misinstance\u001b[39m(out, \u001b[38;5;28mtuple\u001b[39m) \u001b[38;5;129;01mand\u001b[39;00m \u001b[38;5;28mlen\u001b[39m(out) \u001b[38;5;241m==\u001b[39m \u001b[38;5;241m1\u001b[39m\n\u001b[1;32m    309\u001b[0m     out \u001b[38;5;241m=\u001b[39m out[\u001b[38;5;241m0\u001b[39m]\n",
      "File \u001b[0;32m~/data_scouting/lib/python3.10/site-packages/awkward/_broadcasting.py:1039\u001b[0m, in \u001b[0;36mbroadcast_and_apply\u001b[0;34m(inputs, action, behavior, depth_context, lateral_context, allow_records, left_broadcast, right_broadcast, numpy_to_regular, regular_to_jagged, function_name, broadcast_parameters_rule)\u001b[0m\n\u001b[1;32m   1037\u001b[0m backend \u001b[38;5;241m=\u001b[39m ak\u001b[38;5;241m.\u001b[39m_backends\u001b[38;5;241m.\u001b[39mbackend_of(\u001b[38;5;241m*\u001b[39minputs)\n\u001b[1;32m   1038\u001b[0m isscalar \u001b[38;5;241m=\u001b[39m []\n\u001b[0;32m-> 1039\u001b[0m out \u001b[38;5;241m=\u001b[39m \u001b[43mapply_step\u001b[49m\u001b[43m(\u001b[49m\n\u001b[1;32m   1040\u001b[0m \u001b[43m    \u001b[49m\u001b[43mbackend\u001b[49m\u001b[43m,\u001b[49m\n\u001b[1;32m   1041\u001b[0m \u001b[43m    \u001b[49m\u001b[43mbroadcast_pack\u001b[49m\u001b[43m(\u001b[49m\u001b[43minputs\u001b[49m\u001b[43m,\u001b[49m\u001b[43m \u001b[49m\u001b[43misscalar\u001b[49m\u001b[43m)\u001b[49m\u001b[43m,\u001b[49m\n\u001b[1;32m   1042\u001b[0m \u001b[43m    \u001b[49m\u001b[43maction\u001b[49m\u001b[43m,\u001b[49m\n\u001b[1;32m   1043\u001b[0m \u001b[43m    \u001b[49m\u001b[38;5;241;43m0\u001b[39;49m\u001b[43m,\u001b[49m\n\u001b[1;32m   1044\u001b[0m \u001b[43m    \u001b[49m\u001b[43mdepth_context\u001b[49m\u001b[43m,\u001b[49m\n\u001b[1;32m   1045\u001b[0m \u001b[43m    \u001b[49m\u001b[43mlateral_context\u001b[49m\u001b[43m,\u001b[49m\n\u001b[1;32m   1046\u001b[0m \u001b[43m    \u001b[49m\u001b[43mbehavior\u001b[49m\u001b[43m,\u001b[49m\n\u001b[1;32m   1047\u001b[0m \u001b[43m    \u001b[49m\u001b[43m{\u001b[49m\n\u001b[1;32m   1048\u001b[0m \u001b[43m        \u001b[49m\u001b[38;5;124;43m\"\u001b[39;49m\u001b[38;5;124;43mallow_records\u001b[39;49m\u001b[38;5;124;43m\"\u001b[39;49m\u001b[43m:\u001b[49m\u001b[43m \u001b[49m\u001b[43mallow_records\u001b[49m\u001b[43m,\u001b[49m\n\u001b[1;32m   1049\u001b[0m \u001b[43m        \u001b[49m\u001b[38;5;124;43m\"\u001b[39;49m\u001b[38;5;124;43mleft_broadcast\u001b[39;49m\u001b[38;5;124;43m\"\u001b[39;49m\u001b[43m:\u001b[49m\u001b[43m \u001b[49m\u001b[43mleft_broadcast\u001b[49m\u001b[43m,\u001b[49m\n\u001b[1;32m   1050\u001b[0m \u001b[43m        \u001b[49m\u001b[38;5;124;43m\"\u001b[39;49m\u001b[38;5;124;43mright_broadcast\u001b[39;49m\u001b[38;5;124;43m\"\u001b[39;49m\u001b[43m:\u001b[49m\u001b[43m \u001b[49m\u001b[43mright_broadcast\u001b[49m\u001b[43m,\u001b[49m\n\u001b[1;32m   1051\u001b[0m \u001b[43m        \u001b[49m\u001b[38;5;124;43m\"\u001b[39;49m\u001b[38;5;124;43mnumpy_to_regular\u001b[39;49m\u001b[38;5;124;43m\"\u001b[39;49m\u001b[43m:\u001b[49m\u001b[43m \u001b[49m\u001b[43mnumpy_to_regular\u001b[49m\u001b[43m,\u001b[49m\n\u001b[1;32m   1052\u001b[0m \u001b[43m        \u001b[49m\u001b[38;5;124;43m\"\u001b[39;49m\u001b[38;5;124;43mregular_to_jagged\u001b[39;49m\u001b[38;5;124;43m\"\u001b[39;49m\u001b[43m:\u001b[49m\u001b[43m \u001b[49m\u001b[43mregular_to_jagged\u001b[49m\u001b[43m,\u001b[49m\n\u001b[1;32m   1053\u001b[0m \u001b[43m        \u001b[49m\u001b[38;5;124;43m\"\u001b[39;49m\u001b[38;5;124;43mfunction_name\u001b[39;49m\u001b[38;5;124;43m\"\u001b[39;49m\u001b[43m:\u001b[49m\u001b[43m \u001b[49m\u001b[43mfunction_name\u001b[49m\u001b[43m,\u001b[49m\n\u001b[1;32m   1054\u001b[0m \u001b[43m        \u001b[49m\u001b[38;5;124;43m\"\u001b[39;49m\u001b[38;5;124;43mbroadcast_parameters_rule\u001b[39;49m\u001b[38;5;124;43m\"\u001b[39;49m\u001b[43m:\u001b[49m\u001b[43m \u001b[49m\u001b[43mbroadcast_parameters_rule\u001b[49m\u001b[43m,\u001b[49m\n\u001b[1;32m   1055\u001b[0m \u001b[43m    \u001b[49m\u001b[43m}\u001b[49m\u001b[43m,\u001b[49m\n\u001b[1;32m   1056\u001b[0m \u001b[43m\u001b[49m\u001b[43m)\u001b[49m\n\u001b[1;32m   1057\u001b[0m \u001b[38;5;28;01massert\u001b[39;00m \u001b[38;5;28misinstance\u001b[39m(out, \u001b[38;5;28mtuple\u001b[39m)\n\u001b[1;32m   1058\u001b[0m \u001b[38;5;28;01mreturn\u001b[39;00m \u001b[38;5;28mtuple\u001b[39m(broadcast_unpack(x, isscalar, backend) \u001b[38;5;28;01mfor\u001b[39;00m x \u001b[38;5;129;01min\u001b[39;00m out)\n",
      "File \u001b[0;32m~/data_scouting/lib/python3.10/site-packages/awkward/_broadcasting.py:1018\u001b[0m, in \u001b[0;36mapply_step\u001b[0;34m(backend, inputs, action, depth, depth_context, lateral_context, behavior, options)\u001b[0m\n\u001b[1;32m   1016\u001b[0m     \u001b[38;5;28;01mreturn\u001b[39;00m result\n\u001b[1;32m   1017\u001b[0m \u001b[38;5;28;01melif\u001b[39;00m result \u001b[38;5;129;01mis\u001b[39;00m \u001b[38;5;28;01mNone\u001b[39;00m:\n\u001b[0;32m-> 1018\u001b[0m     \u001b[38;5;28;01mreturn\u001b[39;00m \u001b[43mcontinuation\u001b[49m\u001b[43m(\u001b[49m\u001b[43m)\u001b[49m\n\u001b[1;32m   1019\u001b[0m \u001b[38;5;28;01melse\u001b[39;00m:\n\u001b[1;32m   1020\u001b[0m     \u001b[38;5;28;01mraise\u001b[39;00m ak\u001b[38;5;241m.\u001b[39m_errors\u001b[38;5;241m.\u001b[39mwrap_error(\u001b[38;5;167;01mAssertionError\u001b[39;00m(result))\n",
      "File \u001b[0;32m~/data_scouting/lib/python3.10/site-packages/awkward/_broadcasting.py:737\u001b[0m, in \u001b[0;36mapply_step.<locals>.continuation\u001b[0;34m()\u001b[0m\n\u001b[1;32m    734\u001b[0m         \u001b[38;5;28;01melse\u001b[39;00m:\n\u001b[1;32m    735\u001b[0m             nextinputs\u001b[38;5;241m.\u001b[39mappend(x)\n\u001b[0;32m--> 737\u001b[0m outcontent \u001b[38;5;241m=\u001b[39m \u001b[43mapply_step\u001b[49m\u001b[43m(\u001b[49m\n\u001b[1;32m    738\u001b[0m \u001b[43m    \u001b[49m\u001b[43mbackend\u001b[49m\u001b[43m,\u001b[49m\n\u001b[1;32m    739\u001b[0m \u001b[43m    \u001b[49m\u001b[43mnextinputs\u001b[49m\u001b[43m,\u001b[49m\n\u001b[1;32m    740\u001b[0m \u001b[43m    \u001b[49m\u001b[43maction\u001b[49m\u001b[43m,\u001b[49m\n\u001b[1;32m    741\u001b[0m \u001b[43m    \u001b[49m\u001b[43mdepth\u001b[49m\u001b[43m \u001b[49m\u001b[38;5;241;43m+\u001b[39;49m\u001b[43m \u001b[49m\u001b[38;5;241;43m1\u001b[39;49m\u001b[43m,\u001b[49m\n\u001b[1;32m    742\u001b[0m \u001b[43m    \u001b[49m\u001b[43mcopy\u001b[49m\u001b[38;5;241;43m.\u001b[39;49m\u001b[43mcopy\u001b[49m\u001b[43m(\u001b[49m\u001b[43mdepth_context\u001b[49m\u001b[43m)\u001b[49m\u001b[43m,\u001b[49m\n\u001b[1;32m    743\u001b[0m \u001b[43m    \u001b[49m\u001b[43mlateral_context\u001b[49m\u001b[43m,\u001b[49m\n\u001b[1;32m    744\u001b[0m \u001b[43m    \u001b[49m\u001b[43mbehavior\u001b[49m\u001b[43m,\u001b[49m\n\u001b[1;32m    745\u001b[0m \u001b[43m    \u001b[49m\u001b[43moptions\u001b[49m\u001b[43m,\u001b[49m\n\u001b[1;32m    746\u001b[0m \u001b[43m\u001b[49m\u001b[43m)\u001b[49m\n\u001b[1;32m    747\u001b[0m \u001b[38;5;28;01massert\u001b[39;00m \u001b[38;5;28misinstance\u001b[39m(outcontent, \u001b[38;5;28mtuple\u001b[39m)\n\u001b[1;32m    748\u001b[0m parameters \u001b[38;5;241m=\u001b[39m parameters_factory(\u001b[38;5;28mlen\u001b[39m(outcontent))\n",
      "File \u001b[0;32m~/data_scouting/lib/python3.10/site-packages/awkward/_broadcasting.py:1018\u001b[0m, in \u001b[0;36mapply_step\u001b[0;34m(backend, inputs, action, depth, depth_context, lateral_context, behavior, options)\u001b[0m\n\u001b[1;32m   1016\u001b[0m     \u001b[38;5;28;01mreturn\u001b[39;00m result\n\u001b[1;32m   1017\u001b[0m \u001b[38;5;28;01melif\u001b[39;00m result \u001b[38;5;129;01mis\u001b[39;00m \u001b[38;5;28;01mNone\u001b[39;00m:\n\u001b[0;32m-> 1018\u001b[0m     \u001b[38;5;28;01mreturn\u001b[39;00m \u001b[43mcontinuation\u001b[49m\u001b[43m(\u001b[49m\u001b[43m)\u001b[49m\n\u001b[1;32m   1019\u001b[0m \u001b[38;5;28;01melse\u001b[39;00m:\n\u001b[1;32m   1020\u001b[0m     \u001b[38;5;28;01mraise\u001b[39;00m ak\u001b[38;5;241m.\u001b[39m_errors\u001b[38;5;241m.\u001b[39mwrap_error(\u001b[38;5;167;01mAssertionError\u001b[39;00m(result))\n",
      "File \u001b[0;32m~/data_scouting/lib/python3.10/site-packages/awkward/_broadcasting.py:459\u001b[0m, in \u001b[0;36mapply_step.<locals>.continuation\u001b[0;34m()\u001b[0m\n\u001b[1;32m    455\u001b[0m \u001b[38;5;28;01melif\u001b[39;00m \u001b[38;5;28many\u001b[39m(\u001b[38;5;28misinstance\u001b[39m(x, IndexedArray) \u001b[38;5;28;01mfor\u001b[39;00m x \u001b[38;5;129;01min\u001b[39;00m inputs):\n\u001b[1;32m    456\u001b[0m     nextinputs \u001b[38;5;241m=\u001b[39m [\n\u001b[1;32m    457\u001b[0m         x\u001b[38;5;241m.\u001b[39mproject() \u001b[38;5;28;01mif\u001b[39;00m \u001b[38;5;28misinstance\u001b[39m(x, IndexedArray) \u001b[38;5;28;01melse\u001b[39;00m x \u001b[38;5;28;01mfor\u001b[39;00m x \u001b[38;5;129;01min\u001b[39;00m inputs\n\u001b[1;32m    458\u001b[0m     ]\n\u001b[0;32m--> 459\u001b[0m     \u001b[38;5;28;01mreturn\u001b[39;00m \u001b[43mapply_step\u001b[49m\u001b[43m(\u001b[49m\n\u001b[1;32m    460\u001b[0m \u001b[43m        \u001b[49m\u001b[43mbackend\u001b[49m\u001b[43m,\u001b[49m\n\u001b[1;32m    461\u001b[0m \u001b[43m        \u001b[49m\u001b[43mnextinputs\u001b[49m\u001b[43m,\u001b[49m\n\u001b[1;32m    462\u001b[0m \u001b[43m        \u001b[49m\u001b[43maction\u001b[49m\u001b[43m,\u001b[49m\n\u001b[1;32m    463\u001b[0m \u001b[43m        \u001b[49m\u001b[43mdepth\u001b[49m\u001b[43m,\u001b[49m\n\u001b[1;32m    464\u001b[0m \u001b[43m        \u001b[49m\u001b[43mcopy\u001b[49m\u001b[38;5;241;43m.\u001b[39;49m\u001b[43mcopy\u001b[49m\u001b[43m(\u001b[49m\u001b[43mdepth_context\u001b[49m\u001b[43m)\u001b[49m\u001b[43m,\u001b[49m\n\u001b[1;32m    465\u001b[0m \u001b[43m        \u001b[49m\u001b[43mlateral_context\u001b[49m\u001b[43m,\u001b[49m\n\u001b[1;32m    466\u001b[0m \u001b[43m        \u001b[49m\u001b[43mbehavior\u001b[49m\u001b[43m,\u001b[49m\n\u001b[1;32m    467\u001b[0m \u001b[43m        \u001b[49m\u001b[43moptions\u001b[49m\u001b[43m,\u001b[49m\n\u001b[1;32m    468\u001b[0m \u001b[43m    \u001b[49m\u001b[43m)\u001b[49m\n\u001b[1;32m    470\u001b[0m \u001b[38;5;66;03m# Any UnionArrays?\u001b[39;00m\n\u001b[1;32m    471\u001b[0m \u001b[38;5;28;01melif\u001b[39;00m \u001b[38;5;28many\u001b[39m(\u001b[38;5;28misinstance\u001b[39m(x, UnionArray) \u001b[38;5;28;01mfor\u001b[39;00m x \u001b[38;5;129;01min\u001b[39;00m inputs):\n",
      "File \u001b[0;32m~/data_scouting/lib/python3.10/site-packages/awkward/_broadcasting.py:1004\u001b[0m, in \u001b[0;36mapply_step\u001b[0;34m(backend, inputs, action, depth, depth_context, lateral_context, behavior, options)\u001b[0m\n\u001b[1;32m    995\u001b[0m     \u001b[38;5;28;01melse\u001b[39;00m:\n\u001b[1;32m    996\u001b[0m         \u001b[38;5;28;01mraise\u001b[39;00m ak\u001b[38;5;241m.\u001b[39m_errors\u001b[38;5;241m.\u001b[39mwrap_error(\n\u001b[1;32m    997\u001b[0m             \u001b[38;5;167;01mValueError\u001b[39;00m(\n\u001b[1;32m    998\u001b[0m                 \u001b[38;5;124m\"\u001b[39m\u001b[38;5;124mcannot broadcast: \u001b[39m\u001b[38;5;132;01m{}\u001b[39;00m\u001b[38;5;132;01m{}\u001b[39;00m\u001b[38;5;124m\"\u001b[39m\u001b[38;5;241m.\u001b[39mformat(\n\u001b[0;32m   (...)\u001b[0m\n\u001b[1;32m   1001\u001b[0m             )\n\u001b[1;32m   1002\u001b[0m         )\n\u001b[0;32m-> 1004\u001b[0m result \u001b[38;5;241m=\u001b[39m \u001b[43maction\u001b[49m\u001b[43m(\u001b[49m\n\u001b[1;32m   1005\u001b[0m \u001b[43m    \u001b[49m\u001b[43minputs\u001b[49m\u001b[43m,\u001b[49m\n\u001b[1;32m   1006\u001b[0m \u001b[43m    \u001b[49m\u001b[43mdepth\u001b[49m\u001b[38;5;241;43m=\u001b[39;49m\u001b[43mdepth\u001b[49m\u001b[43m,\u001b[49m\n\u001b[1;32m   1007\u001b[0m \u001b[43m    \u001b[49m\u001b[43mdepth_context\u001b[49m\u001b[38;5;241;43m=\u001b[39;49m\u001b[43mdepth_context\u001b[49m\u001b[43m,\u001b[49m\n\u001b[1;32m   1008\u001b[0m \u001b[43m    \u001b[49m\u001b[43mlateral_context\u001b[49m\u001b[38;5;241;43m=\u001b[39;49m\u001b[43mlateral_context\u001b[49m\u001b[43m,\u001b[49m\n\u001b[1;32m   1009\u001b[0m \u001b[43m    \u001b[49m\u001b[43mcontinuation\u001b[49m\u001b[38;5;241;43m=\u001b[39;49m\u001b[43mcontinuation\u001b[49m\u001b[43m,\u001b[49m\n\u001b[1;32m   1010\u001b[0m \u001b[43m    \u001b[49m\u001b[43mbehavior\u001b[49m\u001b[38;5;241;43m=\u001b[39;49m\u001b[43mbehavior\u001b[49m\u001b[43m,\u001b[49m\n\u001b[1;32m   1011\u001b[0m \u001b[43m    \u001b[49m\u001b[43mbackend\u001b[49m\u001b[38;5;241;43m=\u001b[39;49m\u001b[43mbackend\u001b[49m\u001b[43m,\u001b[49m\n\u001b[1;32m   1012\u001b[0m \u001b[43m    \u001b[49m\u001b[43moptions\u001b[49m\u001b[38;5;241;43m=\u001b[39;49m\u001b[43moptions\u001b[49m\u001b[43m,\u001b[49m\n\u001b[1;32m   1013\u001b[0m \u001b[43m\u001b[49m\u001b[43m)\u001b[49m\n\u001b[1;32m   1015\u001b[0m \u001b[38;5;28;01mif\u001b[39;00m \u001b[38;5;28misinstance\u001b[39m(result, \u001b[38;5;28mtuple\u001b[39m) \u001b[38;5;129;01mand\u001b[39;00m \u001b[38;5;28mall\u001b[39m(\u001b[38;5;28misinstance\u001b[39m(x, Content) \u001b[38;5;28;01mfor\u001b[39;00m x \u001b[38;5;129;01min\u001b[39;00m result):\n\u001b[1;32m   1016\u001b[0m     \u001b[38;5;28;01mreturn\u001b[39;00m result\n",
      "File \u001b[0;32m~/data_scouting/lib/python3.10/site-packages/awkward/_connect/numpy.py:191\u001b[0m, in \u001b[0;36marray_ufunc.<locals>.action\u001b[0;34m(inputs, **ignore)\u001b[0m\n\u001b[1;32m    189\u001b[0m custom \u001b[38;5;241m=\u001b[39m ak\u001b[38;5;241m.\u001b[39m_util\u001b[38;5;241m.\u001b[39moverload(behavior, signature)\n\u001b[1;32m    190\u001b[0m \u001b[38;5;28;01mif\u001b[39;00m custom \u001b[38;5;129;01mis\u001b[39;00m \u001b[38;5;129;01mnot\u001b[39;00m \u001b[38;5;28;01mNone\u001b[39;00m:\n\u001b[0;32m--> 191\u001b[0m     \u001b[38;5;28;01mreturn\u001b[39;00m \u001b[43m_array_ufunc_adjust\u001b[49m\u001b[43m(\u001b[49m\u001b[43mcustom\u001b[49m\u001b[43m,\u001b[49m\u001b[43m \u001b[49m\u001b[43minputs\u001b[49m\u001b[43m,\u001b[49m\u001b[43m \u001b[49m\u001b[43mkwargs\u001b[49m\u001b[43m,\u001b[49m\u001b[43m \u001b[49m\u001b[43mbehavior\u001b[49m\u001b[43m)\u001b[49m\n\u001b[1;32m    193\u001b[0m \u001b[38;5;28;01mif\u001b[39;00m ufunc \u001b[38;5;129;01mis\u001b[39;00m numpy\u001b[38;5;241m.\u001b[39mmatmul:\n\u001b[1;32m    194\u001b[0m     \u001b[38;5;28;01mraise\u001b[39;00m ak\u001b[38;5;241m.\u001b[39m_errors\u001b[38;5;241m.\u001b[39mwrap_error(\n\u001b[1;32m    195\u001b[0m         \u001b[38;5;167;01mNotImplementedError\u001b[39;00m(\n\u001b[1;32m    196\u001b[0m             \u001b[38;5;124m\"\u001b[39m\u001b[38;5;124mmatrix multiplication (`@` or `np.matmul`) is not yet implemented for Awkward Arrays\u001b[39m\u001b[38;5;124m\"\u001b[39m\n\u001b[1;32m    197\u001b[0m         )\n\u001b[1;32m    198\u001b[0m     )\n",
      "File \u001b[0;32m~/data_scouting/lib/python3.10/site-packages/awkward/_connect/numpy.py:128\u001b[0m, in \u001b[0;36m_array_ufunc_adjust\u001b[0;34m(custom, inputs, kwargs, behavior)\u001b[0m\n\u001b[1;32m    121\u001b[0m \u001b[38;5;28;01mdef\u001b[39;00m \u001b[38;5;21m_array_ufunc_adjust\u001b[39m(custom, inputs, kwargs, behavior):\n\u001b[1;32m    122\u001b[0m     args \u001b[38;5;241m=\u001b[39m [\n\u001b[1;32m    123\u001b[0m         ak\u001b[38;5;241m.\u001b[39m_util\u001b[38;5;241m.\u001b[39mwrap(x, behavior)\n\u001b[1;32m    124\u001b[0m         \u001b[38;5;28;01mif\u001b[39;00m \u001b[38;5;28misinstance\u001b[39m(x, (ak\u001b[38;5;241m.\u001b[39mcontents\u001b[38;5;241m.\u001b[39mContent, ak\u001b[38;5;241m.\u001b[39mrecord\u001b[38;5;241m.\u001b[39mRecord))\n\u001b[1;32m    125\u001b[0m         \u001b[38;5;28;01melse\u001b[39;00m x\n\u001b[1;32m    126\u001b[0m         \u001b[38;5;28;01mfor\u001b[39;00m x \u001b[38;5;129;01min\u001b[39;00m inputs\n\u001b[1;32m    127\u001b[0m     ]\n\u001b[0;32m--> 128\u001b[0m     out \u001b[38;5;241m=\u001b[39m \u001b[43mcustom\u001b[49m\u001b[43m(\u001b[49m\u001b[38;5;241;43m*\u001b[39;49m\u001b[43margs\u001b[49m\u001b[43m,\u001b[49m\u001b[43m \u001b[49m\u001b[38;5;241;43m*\u001b[39;49m\u001b[38;5;241;43m*\u001b[39;49m\u001b[43mkwargs\u001b[49m\u001b[43m)\u001b[49m\n\u001b[1;32m    129\u001b[0m     \u001b[38;5;28;01mif\u001b[39;00m \u001b[38;5;129;01mnot\u001b[39;00m \u001b[38;5;28misinstance\u001b[39m(out, \u001b[38;5;28mtuple\u001b[39m):\n\u001b[1;32m    130\u001b[0m         out \u001b[38;5;241m=\u001b[39m (out,)\n",
      "File \u001b[0;32m~/data_scouting/lib/python3.10/site-packages/vector/backends/awkward.py:1514\u001b[0m, in \u001b[0;36m<lambda>\u001b[0;34m(v1, v2)\u001b[0m\n\u001b[1;32m   1502\u001b[0m \u001b[38;5;28;01mfor\u001b[39;00m right \u001b[38;5;129;01min\u001b[39;00m (\n\u001b[1;32m   1503\u001b[0m     \u001b[38;5;124m\"\u001b[39m\u001b[38;5;124mVector2D\u001b[39m\u001b[38;5;124m\"\u001b[39m,\n\u001b[1;32m   1504\u001b[0m     \u001b[38;5;124m\"\u001b[39m\u001b[38;5;124mVector3D\u001b[39m\u001b[38;5;124m\"\u001b[39m,\n\u001b[0;32m   (...)\u001b[0m\n\u001b[1;32m   1511\u001b[0m     VectorObject4D,\n\u001b[1;32m   1512\u001b[0m ):\n\u001b[1;32m   1513\u001b[0m     \u001b[38;5;28;01mif\u001b[39;00m \u001b[38;5;129;01mnot\u001b[39;00m (\u001b[38;5;28misinstance\u001b[39m(left, \u001b[38;5;28mtype\u001b[39m) \u001b[38;5;129;01mand\u001b[39;00m \u001b[38;5;28misinstance\u001b[39m(right, \u001b[38;5;28mtype\u001b[39m)):\n\u001b[0;32m-> 1514\u001b[0m         behavior[numpy\u001b[38;5;241m.\u001b[39madd, left, right] \u001b[38;5;241m=\u001b[39m \u001b[38;5;28;01mlambda\u001b[39;00m v1, v2: \u001b[43mv1\u001b[49m\u001b[38;5;241;43m.\u001b[39;49m\u001b[43madd\u001b[49m\u001b[43m(\u001b[49m\u001b[43mv2\u001b[49m\u001b[43m)\u001b[49m\n\u001b[1;32m   1515\u001b[0m         behavior[numpy\u001b[38;5;241m.\u001b[39msubtract, left, right] \u001b[38;5;241m=\u001b[39m \u001b[38;5;28;01mlambda\u001b[39;00m v1, v2: v1\u001b[38;5;241m.\u001b[39msubtract(v2)\n\u001b[1;32m   1516\u001b[0m         behavior[numpy\u001b[38;5;241m.\u001b[39mmatmul, left, right] \u001b[38;5;241m=\u001b[39m \u001b[38;5;28;01mlambda\u001b[39;00m v1, v2: v1\u001b[38;5;241m.\u001b[39mdot(v2)\n",
      "File \u001b[0;32m~/data_scouting/lib/python3.10/site-packages/vector/_methods.py:2318\u001b[0m, in \u001b[0;36mLorentz.add\u001b[0;34m(self, other)\u001b[0m\n\u001b[1;32m   2316\u001b[0m \u001b[38;5;28;01mdef\u001b[39;00m \u001b[38;5;21madd\u001b[39m(\u001b[38;5;28mself\u001b[39m, other: VectorProtocol) \u001b[38;5;241m-\u001b[39m\u001b[38;5;241m>\u001b[39m VectorProtocol:\n\u001b[1;32m   2317\u001b[0m     module \u001b[38;5;241m=\u001b[39m _compute_module_of(\u001b[38;5;28mself\u001b[39m, other)\n\u001b[0;32m-> 2318\u001b[0m     \u001b[38;5;28;01mreturn\u001b[39;00m \u001b[43mmodule\u001b[49m\u001b[38;5;241;43m.\u001b[39;49m\u001b[43madd\u001b[49m\u001b[38;5;241;43m.\u001b[39;49m\u001b[43mdispatch\u001b[49m\u001b[43m(\u001b[49m\u001b[38;5;28;43mself\u001b[39;49m\u001b[43m,\u001b[49m\u001b[43m \u001b[49m\u001b[43mother\u001b[49m\u001b[43m)\u001b[49m\n",
      "File \u001b[0;32m~/data_scouting/lib/python3.10/site-packages/vector/_compute/lorentz/add.py:205\u001b[0m, in \u001b[0;36mdispatch\u001b[0;34m(v1, v2)\u001b[0m\n\u001b[1;32m    190\u001b[0m function, \u001b[38;5;241m*\u001b[39mreturns \u001b[38;5;241m=\u001b[39m _from_signature(\n\u001b[1;32m    191\u001b[0m     \u001b[38;5;18m__name__\u001b[39m,\n\u001b[1;32m    192\u001b[0m     dispatch_map,\n\u001b[0;32m   (...)\u001b[0m\n\u001b[1;32m    200\u001b[0m     ),\n\u001b[1;32m    201\u001b[0m )\n\u001b[1;32m    202\u001b[0m \u001b[38;5;28;01mwith\u001b[39;00m numpy\u001b[38;5;241m.\u001b[39merrstate(\u001b[38;5;28mall\u001b[39m\u001b[38;5;241m=\u001b[39m\u001b[38;5;124m\"\u001b[39m\u001b[38;5;124mignore\u001b[39m\u001b[38;5;124m\"\u001b[39m):\n\u001b[1;32m    203\u001b[0m     \u001b[38;5;28;01mreturn\u001b[39;00m _handler_of(v1, v2)\u001b[38;5;241m.\u001b[39m_wrap_result(\n\u001b[1;32m    204\u001b[0m         _flavor_of(v1, v2),\n\u001b[0;32m--> 205\u001b[0m         \u001b[43mfunction\u001b[49m\u001b[43m(\u001b[49m\n\u001b[1;32m    206\u001b[0m \u001b[43m            \u001b[49m\u001b[43m_lib_of\u001b[49m\u001b[43m(\u001b[49m\u001b[43mv1\u001b[49m\u001b[43m,\u001b[49m\u001b[43m \u001b[49m\u001b[43mv2\u001b[49m\u001b[43m)\u001b[49m\u001b[43m,\u001b[49m\n\u001b[1;32m    207\u001b[0m \u001b[43m            \u001b[49m\u001b[38;5;241;43m*\u001b[39;49m\u001b[43mv1\u001b[49m\u001b[38;5;241;43m.\u001b[39;49m\u001b[43mazimuthal\u001b[49m\u001b[38;5;241;43m.\u001b[39;49m\u001b[43melements\u001b[49m\u001b[43m,\u001b[49m\n\u001b[1;32m    208\u001b[0m \u001b[43m            \u001b[49m\u001b[38;5;241;43m*\u001b[39;49m\u001b[43mv1\u001b[49m\u001b[38;5;241;43m.\u001b[39;49m\u001b[43mlongitudinal\u001b[49m\u001b[38;5;241;43m.\u001b[39;49m\u001b[43melements\u001b[49m\u001b[43m,\u001b[49m\n\u001b[1;32m    209\u001b[0m \u001b[43m            \u001b[49m\u001b[38;5;241;43m*\u001b[39;49m\u001b[43mv1\u001b[49m\u001b[38;5;241;43m.\u001b[39;49m\u001b[43mtemporal\u001b[49m\u001b[38;5;241;43m.\u001b[39;49m\u001b[43melements\u001b[49m\u001b[43m,\u001b[49m\n\u001b[1;32m    210\u001b[0m \u001b[43m            \u001b[49m\u001b[38;5;241;43m*\u001b[39;49m\u001b[43mv2\u001b[49m\u001b[38;5;241;43m.\u001b[39;49m\u001b[43mazimuthal\u001b[49m\u001b[38;5;241;43m.\u001b[39;49m\u001b[43melements\u001b[49m\u001b[43m,\u001b[49m\n\u001b[1;32m    211\u001b[0m \u001b[43m            \u001b[49m\u001b[38;5;241;43m*\u001b[39;49m\u001b[43mv2\u001b[49m\u001b[38;5;241;43m.\u001b[39;49m\u001b[43mlongitudinal\u001b[49m\u001b[38;5;241;43m.\u001b[39;49m\u001b[43melements\u001b[49m\u001b[43m,\u001b[49m\n\u001b[1;32m    212\u001b[0m \u001b[43m            \u001b[49m\u001b[38;5;241;43m*\u001b[39;49m\u001b[43mv2\u001b[49m\u001b[38;5;241;43m.\u001b[39;49m\u001b[43mtemporal\u001b[49m\u001b[38;5;241;43m.\u001b[39;49m\u001b[43melements\u001b[49m\u001b[43m,\u001b[49m\n\u001b[1;32m    213\u001b[0m \u001b[43m        \u001b[49m\u001b[43m)\u001b[49m,\n\u001b[1;32m    214\u001b[0m         returns,\n\u001b[1;32m    215\u001b[0m         \u001b[38;5;241m2\u001b[39m,\n\u001b[1;32m    216\u001b[0m     )\n",
      "File \u001b[0;32m~/data_scouting/lib/python3.10/site-packages/vector/_compute/lorentz/add.py:150\u001b[0m, in \u001b[0;36mmake_conversion.<locals>.f\u001b[0;34m(lib, coord11, coord12, coord13, coord14, coord21, coord22, coord23, coord24)\u001b[0m\n\u001b[1;32m    144\u001b[0m \u001b[38;5;28;01mdef\u001b[39;00m \u001b[38;5;21mf\u001b[39m(\n\u001b[1;32m    145\u001b[0m     lib, coord11, coord12, coord13, coord14, coord21, coord22, coord23, coord24\n\u001b[1;32m    146\u001b[0m ):\n\u001b[1;32m    147\u001b[0m     coord1, coord2, coord3 \u001b[38;5;241m=\u001b[39m spatial_add(\n\u001b[1;32m    148\u001b[0m         lib, coord11, coord12, coord13, coord21, coord22, coord23\n\u001b[1;32m    149\u001b[0m     )\n\u001b[0;32m--> 150\u001b[0m     t1 \u001b[38;5;241m=\u001b[39m \u001b[43mto_t1\u001b[49m\u001b[43m(\u001b[49m\u001b[43mlib\u001b[49m\u001b[43m,\u001b[49m\u001b[43m \u001b[49m\u001b[43mcoord11\u001b[49m\u001b[43m,\u001b[49m\u001b[43m \u001b[49m\u001b[43mcoord12\u001b[49m\u001b[43m,\u001b[49m\u001b[43m \u001b[49m\u001b[43mcoord13\u001b[49m\u001b[43m,\u001b[49m\u001b[43m \u001b[49m\u001b[43mcoord14\u001b[49m\u001b[43m)\u001b[49m\n\u001b[1;32m    151\u001b[0m     t2 \u001b[38;5;241m=\u001b[39m to_t2(lib, coord21, coord22, coord23, coord24)\n\u001b[1;32m    152\u001b[0m     \u001b[38;5;28;01mreturn\u001b[39;00m (\n\u001b[1;32m    153\u001b[0m         coord1,\n\u001b[1;32m    154\u001b[0m         coord2,\n\u001b[1;32m    155\u001b[0m         coord3,\n\u001b[1;32m    156\u001b[0m         to_tau(lib, coord1, coord2, coord3, t1 \u001b[38;5;241m+\u001b[39m t2),\n\u001b[1;32m    157\u001b[0m     )\n",
      "File \u001b[0;32m~/data_scouting/lib/python3.10/site-packages/vector/_compute/lorentz/t.py:80\u001b[0m, in \u001b[0;36mrhophi_eta_tau\u001b[0;34m(lib, rho, phi, eta, tau)\u001b[0m\n\u001b[1;32m     79\u001b[0m \u001b[38;5;28;01mdef\u001b[39;00m \u001b[38;5;21mrhophi_eta_tau\u001b[39m(lib, rho, phi, eta, tau):\n\u001b[0;32m---> 80\u001b[0m     \u001b[38;5;28;01mreturn\u001b[39;00m lib\u001b[38;5;241m.\u001b[39msqrt(\u001b[43mt2\u001b[49m\u001b[38;5;241;43m.\u001b[39;49m\u001b[43mrhophi_eta_tau\u001b[49m\u001b[43m(\u001b[49m\u001b[43mlib\u001b[49m\u001b[43m,\u001b[49m\u001b[43m \u001b[49m\u001b[43mrho\u001b[49m\u001b[43m,\u001b[49m\u001b[43m \u001b[49m\u001b[43mphi\u001b[49m\u001b[43m,\u001b[49m\u001b[43m \u001b[49m\u001b[43meta\u001b[49m\u001b[43m,\u001b[49m\u001b[43m \u001b[49m\u001b[43mtau\u001b[49m\u001b[43m)\u001b[49m)\n",
      "File \u001b[0;32m~/data_scouting/lib/python3.10/site-packages/vector/_compute/lorentz/t2.py:92\u001b[0m, in \u001b[0;36mrhophi_eta_tau\u001b[0;34m(lib, rho, phi, eta, tau)\u001b[0m\n\u001b[1;32m     90\u001b[0m \u001b[38;5;28;01mdef\u001b[39;00m \u001b[38;5;21mrhophi_eta_tau\u001b[39m(lib, rho, phi, eta, tau):\n\u001b[1;32m     91\u001b[0m     \u001b[38;5;28;01mreturn\u001b[39;00m lib\u001b[38;5;241m.\u001b[39mmaximum(\n\u001b[0;32m---> 92\u001b[0m         \u001b[43mtau2\u001b[49m\u001b[38;5;241;43m.\u001b[39;49m\u001b[43mrhophi_eta_tau\u001b[49m\u001b[43m(\u001b[49m\u001b[43mlib\u001b[49m\u001b[43m,\u001b[49m\u001b[43m \u001b[49m\u001b[43mrho\u001b[49m\u001b[43m,\u001b[49m\u001b[43m \u001b[49m\u001b[43mphi\u001b[49m\u001b[43m,\u001b[49m\u001b[43m \u001b[49m\u001b[43meta\u001b[49m\u001b[43m,\u001b[49m\u001b[43m \u001b[49m\u001b[43mtau\u001b[49m\u001b[43m)\u001b[49m\n\u001b[1;32m     93\u001b[0m         \u001b[38;5;241m+\u001b[39m mag2\u001b[38;5;241m.\u001b[39mrhophi_eta(lib, rho, phi, eta),\n\u001b[1;32m     94\u001b[0m         \u001b[38;5;241m0\u001b[39m,\n\u001b[1;32m     95\u001b[0m     )\n",
      "File \u001b[0;32m~/data_scouting/lib/python3.10/site-packages/vector/_compute/lorentz/tau2.py:80\u001b[0m, in \u001b[0;36mrhophi_eta_tau\u001b[0;34m(lib, rho, phi, eta, tau)\u001b[0m\n\u001b[1;32m     79\u001b[0m \u001b[38;5;28;01mdef\u001b[39;00m \u001b[38;5;21mrhophi_eta_tau\u001b[39m(lib, rho, phi, eta, tau):\n\u001b[0;32m---> 80\u001b[0m     \u001b[38;5;28;01mreturn\u001b[39;00m \u001b[43mlib\u001b[49m\u001b[38;5;241;43m.\u001b[39;49m\u001b[43mcopysign\u001b[49m\u001b[43m(\u001b[49m\u001b[43mtau\u001b[49m\u001b[38;5;241;43m*\u001b[39;49m\u001b[38;5;241;43m*\u001b[39;49m\u001b[38;5;241;43m2\u001b[39;49m\u001b[43m,\u001b[49m\u001b[43m \u001b[49m\u001b[43mtau\u001b[49m\u001b[43m)\u001b[49m\n",
      "File \u001b[0;32m~/data_scouting/lib/python3.10/site-packages/awkward/highlevel.py:1386\u001b[0m, in \u001b[0;36mArray.__array_ufunc__\u001b[0;34m(self, ufunc, method, *inputs, **kwargs)\u001b[0m\n\u001b[1;32m   1384\u001b[0m arguments\u001b[38;5;241m.\u001b[39mupdate(kwargs)\n\u001b[1;32m   1385\u001b[0m \u001b[38;5;28;01mwith\u001b[39;00m ak\u001b[38;5;241m.\u001b[39m_errors\u001b[38;5;241m.\u001b[39mOperationErrorContext(name, arguments):\n\u001b[0;32m-> 1386\u001b[0m     \u001b[38;5;28;01mreturn\u001b[39;00m \u001b[43mak\u001b[49m\u001b[38;5;241;43m.\u001b[39;49m\u001b[43m_connect\u001b[49m\u001b[38;5;241;43m.\u001b[39;49m\u001b[43mnumpy\u001b[49m\u001b[38;5;241;43m.\u001b[39;49m\u001b[43marray_ufunc\u001b[49m\u001b[43m(\u001b[49m\u001b[43mufunc\u001b[49m\u001b[43m,\u001b[49m\u001b[43m \u001b[49m\u001b[43mmethod\u001b[49m\u001b[43m,\u001b[49m\u001b[43m \u001b[49m\u001b[43minputs\u001b[49m\u001b[43m,\u001b[49m\u001b[43m \u001b[49m\u001b[43mkwargs\u001b[49m\u001b[43m)\u001b[49m\n",
      "File \u001b[0;32m~/data_scouting/lib/python3.10/site-packages/awkward/_connect/numpy.py:305\u001b[0m, in \u001b[0;36marray_ufunc\u001b[0;34m(ufunc, method, inputs, kwargs)\u001b[0m\n\u001b[1;32m    296\u001b[0m     out \u001b[38;5;241m=\u001b[39m ak\u001b[38;5;241m.\u001b[39m_do\u001b[38;5;241m.\u001b[39mrecursively_apply(\n\u001b[1;32m    297\u001b[0m         inputs[where],\n\u001b[1;32m    298\u001b[0m         unary_action,\n\u001b[0;32m   (...)\u001b[0m\n\u001b[1;32m    301\u001b[0m         allow_records\u001b[38;5;241m=\u001b[39m\u001b[38;5;28;01mFalse\u001b[39;00m,\n\u001b[1;32m    302\u001b[0m     )\n\u001b[1;32m    304\u001b[0m \u001b[38;5;28;01melse\u001b[39;00m:\n\u001b[0;32m--> 305\u001b[0m     out \u001b[38;5;241m=\u001b[39m \u001b[43mak\u001b[49m\u001b[38;5;241;43m.\u001b[39;49m\u001b[43m_broadcasting\u001b[49m\u001b[38;5;241;43m.\u001b[39;49m\u001b[43mbroadcast_and_apply\u001b[49m\u001b[43m(\u001b[49m\n\u001b[1;32m    306\u001b[0m \u001b[43m        \u001b[49m\u001b[43minputs\u001b[49m\u001b[43m,\u001b[49m\u001b[43m \u001b[49m\u001b[43maction\u001b[49m\u001b[43m,\u001b[49m\u001b[43m \u001b[49m\u001b[43mbehavior\u001b[49m\u001b[43m,\u001b[49m\u001b[43m \u001b[49m\u001b[43mallow_records\u001b[49m\u001b[38;5;241;43m=\u001b[39;49m\u001b[38;5;28;43;01mFalse\u001b[39;49;00m\u001b[43m,\u001b[49m\u001b[43m \u001b[49m\u001b[43mfunction_name\u001b[49m\u001b[38;5;241;43m=\u001b[39;49m\u001b[43mufunc\u001b[49m\u001b[38;5;241;43m.\u001b[39;49m\u001b[38;5;18;43m__name__\u001b[39;49m\n\u001b[1;32m    307\u001b[0m \u001b[43m    \u001b[49m\u001b[43m)\u001b[49m\n\u001b[1;32m    308\u001b[0m     \u001b[38;5;28;01massert\u001b[39;00m \u001b[38;5;28misinstance\u001b[39m(out, \u001b[38;5;28mtuple\u001b[39m) \u001b[38;5;129;01mand\u001b[39;00m \u001b[38;5;28mlen\u001b[39m(out) \u001b[38;5;241m==\u001b[39m \u001b[38;5;241m1\u001b[39m\n\u001b[1;32m    309\u001b[0m     out \u001b[38;5;241m=\u001b[39m out[\u001b[38;5;241m0\u001b[39m]\n",
      "File \u001b[0;32m~/data_scouting/lib/python3.10/site-packages/awkward/_broadcasting.py:1039\u001b[0m, in \u001b[0;36mbroadcast_and_apply\u001b[0;34m(inputs, action, behavior, depth_context, lateral_context, allow_records, left_broadcast, right_broadcast, numpy_to_regular, regular_to_jagged, function_name, broadcast_parameters_rule)\u001b[0m\n\u001b[1;32m   1037\u001b[0m backend \u001b[38;5;241m=\u001b[39m ak\u001b[38;5;241m.\u001b[39m_backends\u001b[38;5;241m.\u001b[39mbackend_of(\u001b[38;5;241m*\u001b[39minputs)\n\u001b[1;32m   1038\u001b[0m isscalar \u001b[38;5;241m=\u001b[39m []\n\u001b[0;32m-> 1039\u001b[0m out \u001b[38;5;241m=\u001b[39m \u001b[43mapply_step\u001b[49m\u001b[43m(\u001b[49m\n\u001b[1;32m   1040\u001b[0m \u001b[43m    \u001b[49m\u001b[43mbackend\u001b[49m\u001b[43m,\u001b[49m\n\u001b[1;32m   1041\u001b[0m \u001b[43m    \u001b[49m\u001b[43mbroadcast_pack\u001b[49m\u001b[43m(\u001b[49m\u001b[43minputs\u001b[49m\u001b[43m,\u001b[49m\u001b[43m \u001b[49m\u001b[43misscalar\u001b[49m\u001b[43m)\u001b[49m\u001b[43m,\u001b[49m\n\u001b[1;32m   1042\u001b[0m \u001b[43m    \u001b[49m\u001b[43maction\u001b[49m\u001b[43m,\u001b[49m\n\u001b[1;32m   1043\u001b[0m \u001b[43m    \u001b[49m\u001b[38;5;241;43m0\u001b[39;49m\u001b[43m,\u001b[49m\n\u001b[1;32m   1044\u001b[0m \u001b[43m    \u001b[49m\u001b[43mdepth_context\u001b[49m\u001b[43m,\u001b[49m\n\u001b[1;32m   1045\u001b[0m \u001b[43m    \u001b[49m\u001b[43mlateral_context\u001b[49m\u001b[43m,\u001b[49m\n\u001b[1;32m   1046\u001b[0m \u001b[43m    \u001b[49m\u001b[43mbehavior\u001b[49m\u001b[43m,\u001b[49m\n\u001b[1;32m   1047\u001b[0m \u001b[43m    \u001b[49m\u001b[43m{\u001b[49m\n\u001b[1;32m   1048\u001b[0m \u001b[43m        \u001b[49m\u001b[38;5;124;43m\"\u001b[39;49m\u001b[38;5;124;43mallow_records\u001b[39;49m\u001b[38;5;124;43m\"\u001b[39;49m\u001b[43m:\u001b[49m\u001b[43m \u001b[49m\u001b[43mallow_records\u001b[49m\u001b[43m,\u001b[49m\n\u001b[1;32m   1049\u001b[0m \u001b[43m        \u001b[49m\u001b[38;5;124;43m\"\u001b[39;49m\u001b[38;5;124;43mleft_broadcast\u001b[39;49m\u001b[38;5;124;43m\"\u001b[39;49m\u001b[43m:\u001b[49m\u001b[43m \u001b[49m\u001b[43mleft_broadcast\u001b[49m\u001b[43m,\u001b[49m\n\u001b[1;32m   1050\u001b[0m \u001b[43m        \u001b[49m\u001b[38;5;124;43m\"\u001b[39;49m\u001b[38;5;124;43mright_broadcast\u001b[39;49m\u001b[38;5;124;43m\"\u001b[39;49m\u001b[43m:\u001b[49m\u001b[43m \u001b[49m\u001b[43mright_broadcast\u001b[49m\u001b[43m,\u001b[49m\n\u001b[1;32m   1051\u001b[0m \u001b[43m        \u001b[49m\u001b[38;5;124;43m\"\u001b[39;49m\u001b[38;5;124;43mnumpy_to_regular\u001b[39;49m\u001b[38;5;124;43m\"\u001b[39;49m\u001b[43m:\u001b[49m\u001b[43m \u001b[49m\u001b[43mnumpy_to_regular\u001b[49m\u001b[43m,\u001b[49m\n\u001b[1;32m   1052\u001b[0m \u001b[43m        \u001b[49m\u001b[38;5;124;43m\"\u001b[39;49m\u001b[38;5;124;43mregular_to_jagged\u001b[39;49m\u001b[38;5;124;43m\"\u001b[39;49m\u001b[43m:\u001b[49m\u001b[43m \u001b[49m\u001b[43mregular_to_jagged\u001b[49m\u001b[43m,\u001b[49m\n\u001b[1;32m   1053\u001b[0m \u001b[43m        \u001b[49m\u001b[38;5;124;43m\"\u001b[39;49m\u001b[38;5;124;43mfunction_name\u001b[39;49m\u001b[38;5;124;43m\"\u001b[39;49m\u001b[43m:\u001b[49m\u001b[43m \u001b[49m\u001b[43mfunction_name\u001b[49m\u001b[43m,\u001b[49m\n\u001b[1;32m   1054\u001b[0m \u001b[43m        \u001b[49m\u001b[38;5;124;43m\"\u001b[39;49m\u001b[38;5;124;43mbroadcast_parameters_rule\u001b[39;49m\u001b[38;5;124;43m\"\u001b[39;49m\u001b[43m:\u001b[49m\u001b[43m \u001b[49m\u001b[43mbroadcast_parameters_rule\u001b[49m\u001b[43m,\u001b[49m\n\u001b[1;32m   1055\u001b[0m \u001b[43m    \u001b[49m\u001b[43m}\u001b[49m\u001b[43m,\u001b[49m\n\u001b[1;32m   1056\u001b[0m \u001b[43m\u001b[49m\u001b[43m)\u001b[49m\n\u001b[1;32m   1057\u001b[0m \u001b[38;5;28;01massert\u001b[39;00m \u001b[38;5;28misinstance\u001b[39m(out, \u001b[38;5;28mtuple\u001b[39m)\n\u001b[1;32m   1058\u001b[0m \u001b[38;5;28;01mreturn\u001b[39;00m \u001b[38;5;28mtuple\u001b[39m(broadcast_unpack(x, isscalar, backend) \u001b[38;5;28;01mfor\u001b[39;00m x \u001b[38;5;129;01min\u001b[39;00m out)\n",
      "File \u001b[0;32m~/data_scouting/lib/python3.10/site-packages/awkward/_broadcasting.py:1018\u001b[0m, in \u001b[0;36mapply_step\u001b[0;34m(backend, inputs, action, depth, depth_context, lateral_context, behavior, options)\u001b[0m\n\u001b[1;32m   1016\u001b[0m     \u001b[38;5;28;01mreturn\u001b[39;00m result\n\u001b[1;32m   1017\u001b[0m \u001b[38;5;28;01melif\u001b[39;00m result \u001b[38;5;129;01mis\u001b[39;00m \u001b[38;5;28;01mNone\u001b[39;00m:\n\u001b[0;32m-> 1018\u001b[0m     \u001b[38;5;28;01mreturn\u001b[39;00m \u001b[43mcontinuation\u001b[49m\u001b[43m(\u001b[49m\u001b[43m)\u001b[49m\n\u001b[1;32m   1019\u001b[0m \u001b[38;5;28;01melse\u001b[39;00m:\n\u001b[1;32m   1020\u001b[0m     \u001b[38;5;28;01mraise\u001b[39;00m ak\u001b[38;5;241m.\u001b[39m_errors\u001b[38;5;241m.\u001b[39mwrap_error(\u001b[38;5;167;01mAssertionError\u001b[39;00m(result))\n",
      "File \u001b[0;32m~/data_scouting/lib/python3.10/site-packages/awkward/_broadcasting.py:737\u001b[0m, in \u001b[0;36mapply_step.<locals>.continuation\u001b[0;34m()\u001b[0m\n\u001b[1;32m    734\u001b[0m         \u001b[38;5;28;01melse\u001b[39;00m:\n\u001b[1;32m    735\u001b[0m             nextinputs\u001b[38;5;241m.\u001b[39mappend(x)\n\u001b[0;32m--> 737\u001b[0m outcontent \u001b[38;5;241m=\u001b[39m \u001b[43mapply_step\u001b[49m\u001b[43m(\u001b[49m\n\u001b[1;32m    738\u001b[0m \u001b[43m    \u001b[49m\u001b[43mbackend\u001b[49m\u001b[43m,\u001b[49m\n\u001b[1;32m    739\u001b[0m \u001b[43m    \u001b[49m\u001b[43mnextinputs\u001b[49m\u001b[43m,\u001b[49m\n\u001b[1;32m    740\u001b[0m \u001b[43m    \u001b[49m\u001b[43maction\u001b[49m\u001b[43m,\u001b[49m\n\u001b[1;32m    741\u001b[0m \u001b[43m    \u001b[49m\u001b[43mdepth\u001b[49m\u001b[43m \u001b[49m\u001b[38;5;241;43m+\u001b[39;49m\u001b[43m \u001b[49m\u001b[38;5;241;43m1\u001b[39;49m\u001b[43m,\u001b[49m\n\u001b[1;32m    742\u001b[0m \u001b[43m    \u001b[49m\u001b[43mcopy\u001b[49m\u001b[38;5;241;43m.\u001b[39;49m\u001b[43mcopy\u001b[49m\u001b[43m(\u001b[49m\u001b[43mdepth_context\u001b[49m\u001b[43m)\u001b[49m\u001b[43m,\u001b[49m\n\u001b[1;32m    743\u001b[0m \u001b[43m    \u001b[49m\u001b[43mlateral_context\u001b[49m\u001b[43m,\u001b[49m\n\u001b[1;32m    744\u001b[0m \u001b[43m    \u001b[49m\u001b[43mbehavior\u001b[49m\u001b[43m,\u001b[49m\n\u001b[1;32m    745\u001b[0m \u001b[43m    \u001b[49m\u001b[43moptions\u001b[49m\u001b[43m,\u001b[49m\n\u001b[1;32m    746\u001b[0m \u001b[43m\u001b[49m\u001b[43m)\u001b[49m\n\u001b[1;32m    747\u001b[0m \u001b[38;5;28;01massert\u001b[39;00m \u001b[38;5;28misinstance\u001b[39m(outcontent, \u001b[38;5;28mtuple\u001b[39m)\n\u001b[1;32m    748\u001b[0m parameters \u001b[38;5;241m=\u001b[39m parameters_factory(\u001b[38;5;28mlen\u001b[39m(outcontent))\n",
      "File \u001b[0;32m~/data_scouting/lib/python3.10/site-packages/awkward/_broadcasting.py:1004\u001b[0m, in \u001b[0;36mapply_step\u001b[0;34m(backend, inputs, action, depth, depth_context, lateral_context, behavior, options)\u001b[0m\n\u001b[1;32m    995\u001b[0m     \u001b[38;5;28;01melse\u001b[39;00m:\n\u001b[1;32m    996\u001b[0m         \u001b[38;5;28;01mraise\u001b[39;00m ak\u001b[38;5;241m.\u001b[39m_errors\u001b[38;5;241m.\u001b[39mwrap_error(\n\u001b[1;32m    997\u001b[0m             \u001b[38;5;167;01mValueError\u001b[39;00m(\n\u001b[1;32m    998\u001b[0m                 \u001b[38;5;124m\"\u001b[39m\u001b[38;5;124mcannot broadcast: \u001b[39m\u001b[38;5;132;01m{}\u001b[39;00m\u001b[38;5;132;01m{}\u001b[39;00m\u001b[38;5;124m\"\u001b[39m\u001b[38;5;241m.\u001b[39mformat(\n\u001b[0;32m   (...)\u001b[0m\n\u001b[1;32m   1001\u001b[0m             )\n\u001b[1;32m   1002\u001b[0m         )\n\u001b[0;32m-> 1004\u001b[0m result \u001b[38;5;241m=\u001b[39m \u001b[43maction\u001b[49m\u001b[43m(\u001b[49m\n\u001b[1;32m   1005\u001b[0m \u001b[43m    \u001b[49m\u001b[43minputs\u001b[49m\u001b[43m,\u001b[49m\n\u001b[1;32m   1006\u001b[0m \u001b[43m    \u001b[49m\u001b[43mdepth\u001b[49m\u001b[38;5;241;43m=\u001b[39;49m\u001b[43mdepth\u001b[49m\u001b[43m,\u001b[49m\n\u001b[1;32m   1007\u001b[0m \u001b[43m    \u001b[49m\u001b[43mdepth_context\u001b[49m\u001b[38;5;241;43m=\u001b[39;49m\u001b[43mdepth_context\u001b[49m\u001b[43m,\u001b[49m\n\u001b[1;32m   1008\u001b[0m \u001b[43m    \u001b[49m\u001b[43mlateral_context\u001b[49m\u001b[38;5;241;43m=\u001b[39;49m\u001b[43mlateral_context\u001b[49m\u001b[43m,\u001b[49m\n\u001b[1;32m   1009\u001b[0m \u001b[43m    \u001b[49m\u001b[43mcontinuation\u001b[49m\u001b[38;5;241;43m=\u001b[39;49m\u001b[43mcontinuation\u001b[49m\u001b[43m,\u001b[49m\n\u001b[1;32m   1010\u001b[0m \u001b[43m    \u001b[49m\u001b[43mbehavior\u001b[49m\u001b[38;5;241;43m=\u001b[39;49m\u001b[43mbehavior\u001b[49m\u001b[43m,\u001b[49m\n\u001b[1;32m   1011\u001b[0m \u001b[43m    \u001b[49m\u001b[43mbackend\u001b[49m\u001b[38;5;241;43m=\u001b[39;49m\u001b[43mbackend\u001b[49m\u001b[43m,\u001b[49m\n\u001b[1;32m   1012\u001b[0m \u001b[43m    \u001b[49m\u001b[43moptions\u001b[49m\u001b[38;5;241;43m=\u001b[39;49m\u001b[43moptions\u001b[49m\u001b[43m,\u001b[49m\n\u001b[1;32m   1013\u001b[0m \u001b[43m\u001b[49m\u001b[43m)\u001b[49m\n\u001b[1;32m   1015\u001b[0m \u001b[38;5;28;01mif\u001b[39;00m \u001b[38;5;28misinstance\u001b[39m(result, \u001b[38;5;28mtuple\u001b[39m) \u001b[38;5;129;01mand\u001b[39;00m \u001b[38;5;28mall\u001b[39m(\u001b[38;5;28misinstance\u001b[39m(x, Content) \u001b[38;5;28;01mfor\u001b[39;00m x \u001b[38;5;129;01min\u001b[39;00m result):\n\u001b[1;32m   1016\u001b[0m     \u001b[38;5;28;01mreturn\u001b[39;00m result\n",
      "File \u001b[0;32m~/data_scouting/lib/python3.10/site-packages/awkward/_connect/numpy.py:189\u001b[0m, in \u001b[0;36marray_ufunc.<locals>.action\u001b[0;34m(inputs, **ignore)\u001b[0m\n\u001b[1;32m    186\u001b[0m \u001b[38;5;28;01mdef\u001b[39;00m \u001b[38;5;21maction\u001b[39m(inputs, \u001b[38;5;241m*\u001b[39m\u001b[38;5;241m*\u001b[39mignore):\n\u001b[1;32m    187\u001b[0m     signature \u001b[38;5;241m=\u001b[39m _array_ufunc_signature(ufunc, inputs)\n\u001b[0;32m--> 189\u001b[0m     custom \u001b[38;5;241m=\u001b[39m \u001b[43mak\u001b[49m\u001b[38;5;241;43m.\u001b[39;49m\u001b[43m_util\u001b[49m\u001b[38;5;241;43m.\u001b[39;49m\u001b[43moverload\u001b[49m\u001b[43m(\u001b[49m\u001b[43mbehavior\u001b[49m\u001b[43m,\u001b[49m\u001b[43m \u001b[49m\u001b[43msignature\u001b[49m\u001b[43m)\u001b[49m\n\u001b[1;32m    190\u001b[0m     \u001b[38;5;28;01mif\u001b[39;00m custom \u001b[38;5;129;01mis\u001b[39;00m \u001b[38;5;129;01mnot\u001b[39;00m \u001b[38;5;28;01mNone\u001b[39;00m:\n\u001b[1;32m    191\u001b[0m         \u001b[38;5;28;01mreturn\u001b[39;00m _array_ufunc_adjust(custom, inputs, kwargs, behavior)\n",
      "File \u001b[0;32m~/data_scouting/lib/python3.10/site-packages/awkward/_util.py:326\u001b[0m, in \u001b[0;36moverload\u001b[0;34m(behavior, signature)\u001b[0m\n\u001b[1;32m    323\u001b[0m behavior \u001b[38;5;241m=\u001b[39m overlay_behavior(behavior)\n\u001b[1;32m    324\u001b[0m \u001b[38;5;28;01mfor\u001b[39;00m key, custom \u001b[38;5;129;01min\u001b[39;00m behavior\u001b[38;5;241m.\u001b[39mitems():\n\u001b[1;32m    325\u001b[0m     \u001b[38;5;28;01mif\u001b[39;00m (\n\u001b[0;32m--> 326\u001b[0m         \u001b[38;5;28;43misinstance\u001b[39;49m\u001b[43m(\u001b[49m\u001b[43mkey\u001b[49m\u001b[43m,\u001b[49m\u001b[43m \u001b[49m\u001b[38;5;28;43mtuple\u001b[39;49m\u001b[43m)\u001b[49m\n\u001b[1;32m    327\u001b[0m         \u001b[38;5;129;01mand\u001b[39;00m \u001b[38;5;28mlen\u001b[39m(key) \u001b[38;5;241m==\u001b[39m \u001b[38;5;28mlen\u001b[39m(signature)\n\u001b[1;32m    328\u001b[0m         \u001b[38;5;129;01mand\u001b[39;00m key[\u001b[38;5;241m0\u001b[39m] \u001b[38;5;241m==\u001b[39m signature[\u001b[38;5;241m0\u001b[39m]\n\u001b[1;32m    329\u001b[0m         \u001b[38;5;129;01mand\u001b[39;00m \u001b[38;5;28mall\u001b[39m(\n\u001b[1;32m    330\u001b[0m             k \u001b[38;5;241m==\u001b[39m s\n\u001b[1;32m    331\u001b[0m             \u001b[38;5;129;01mor\u001b[39;00m (\n\u001b[1;32m    332\u001b[0m                 \u001b[38;5;28misinstance\u001b[39m(k, \u001b[38;5;28mtype\u001b[39m) \u001b[38;5;129;01mand\u001b[39;00m \u001b[38;5;28misinstance\u001b[39m(s, \u001b[38;5;28mtype\u001b[39m) \u001b[38;5;129;01mand\u001b[39;00m \u001b[38;5;28missubclass\u001b[39m(s, k)\n\u001b[1;32m    333\u001b[0m             )\n\u001b[1;32m    334\u001b[0m             \u001b[38;5;28;01mfor\u001b[39;00m k, s \u001b[38;5;129;01min\u001b[39;00m \u001b[38;5;28mzip\u001b[39m(key[\u001b[38;5;241m1\u001b[39m:], signature[\u001b[38;5;241m1\u001b[39m:])\n\u001b[1;32m    335\u001b[0m         )\n\u001b[1;32m    336\u001b[0m     ):\n\u001b[1;32m    337\u001b[0m         \u001b[38;5;28;01mreturn\u001b[39;00m custom\n",
      "\u001b[0;31mKeyboardInterrupt\u001b[0m: "
     ]
    }
   ],
   "source": [
    "momentum_array_reco = []\n",
    "for i in range(len(reco_pos_z0_eta_phi_pt_cut)):\n",
    "    momentum_array_reco.append(reco_pos_z0_eta_phi_pt_cut[i]+reco_neg_z0_eta_phi_pt_cut[i])"
   ]
  },
  {
   "cell_type": "code",
   "execution_count": null,
   "id": "789c9517-628c-4654-a713-c017065e5a8b",
   "metadata": {},
   "outputs": [],
   "source": [
    "invariant_mass_reco = []\n",
    "for i in range(len(momentum_array_reco)):\n",
    "    invariant_mass_reco.append(momentum_array_reco[i].mass)"
   ]
  },
  {
   "cell_type": "code",
   "execution_count": 107,
   "id": "fa4f64ac-f318-4ad1-905a-0013c3c50b32",
   "metadata": {},
   "outputs": [],
   "source": [
    "# eta_neg_reco = []\n",
    "# for i in range(len(flatten_neg_reco)):\n",
    "#     eta_neg_reco.append(flatten_neg_reco[i].eta)\n",
    "        \n",
    "# phi_neg_reco = []\n",
    "# for i in range(len(flatten_neg_reco)):\n",
    "#     phi_neg_reco.append(flatten_neg_reco[i].phi)\n",
    "        \n",
    "# pt_neg_reco = []\n",
    "# for i in range(len(flatten_neg_reco)):\n",
    "#     pt_neg_reco.append(flatten_neg_reco[i].pt)"
   ]
  },
  {
   "cell_type": "code",
   "execution_count": null,
   "id": "635615ef-9dec-49e7-8b54-4f5378dc347e",
   "metadata": {},
   "outputs": [],
   "source": [
    "# eta_pos_reco = []\n",
    "# for i in range(len(flatten_pos_reco)):\n",
    "#     eta_pos_reco.append(flatten_pos_reco[i].eta)\n",
    "        \n",
    "# phi_pos_reco = []\n",
    "# for i in range(len(flatten_pos_reco)):\n",
    "#     phi_pos_reco.append(flatten_pos_reco[i].phi)\n",
    "        \n",
    "# pt_pos_reco = []\n",
    "# for i in range(len(flatten_pos_reco)):\n",
    "#     pt_pos_reco.append(flatten_pos_reco[i].pt)"
   ]
  },
  {
   "cell_type": "code",
   "execution_count": null,
   "id": "540565be-d38b-43d4-8c82-69e2097d1bfb",
   "metadata": {},
   "outputs": [],
   "source": [
    "len(eta_pos_reco)"
   ]
  },
  {
   "cell_type": "code",
   "execution_count": null,
   "id": "5322ad20-1d46-4fc2-8373-fd001a1c2384",
   "metadata": {},
   "outputs": [],
   "source": [
    "# higher_pt_reco = []\n",
    "# lower_pt_reco = []\n",
    "# for i in range(len(pt_neg_reco)):\n",
    "#     if pt_neg_reco[i]>pt_pos_reco[i]:\n",
    "#         higher_pt_reco.append(pt_neg_reco[i])\n",
    "#         lower_pt_reco.append(pt_pos_reco[i])\n",
    "#     else:\n",
    "#         higher_pt_reco.append(pt_pos_reco[i])\n",
    "#         lower_pt_reco.append(pt_neg_reco[i])"
   ]
  },
  {
   "cell_type": "code",
   "execution_count": null,
   "id": "cb6fb98d-ea3a-4dad-83e4-afc699126689",
   "metadata": {},
   "outputs": [],
   "source": [
    "higher_pt_signal = []\n",
    "lower_pt_signal = []\n",
    "for i in range(len(pt_neg_signal)):\n",
    "    if pt_neg_signal[i]>pt_pos_signal[i]:\n",
    "        higher_pt_signal.append(pt_neg_signal[i])\n",
    "        lower_pt_signal.append(pt_pos_signal[i])\n",
    "    else:\n",
    "        higher_pt_signal.append(pt_pos_signal[i])\n",
    "        lower_pt_signal.append(pt_neg_signal[i])"
   ]
  },
  {
   "cell_type": "code",
   "execution_count": null,
   "id": "ce3dcce7-ebc5-4ec8-8885-b3e236137e64",
   "metadata": {},
   "outputs": [],
   "source": [
    "higher_pt_background = []\n",
    "lower_pt_background = []\n",
    "for i in range(len(pt_neg_background)):\n",
    "    if pt_neg_background[i]>pt_pos_background[i]:\n",
    "        higher_pt_background.append(pt_neg_background[i])\n",
    "        lower_pt_background.append(pt_pos_background[i])\n",
    "    else:\n",
    "        higher_pt_background.append(pt_pos_background[i])\n",
    "        lower_pt_background.append(pt_neg_background[i])"
   ]
  },
  {
   "cell_type": "code",
   "execution_count": null,
   "id": "e4593cc0-0f03-43da-8420-9ca2d177fc13",
   "metadata": {},
   "outputs": [],
   "source": [
    "delta_z0 = []\n",
    "for i in range(len(all_z0_neg)):\n",
    "    for j in range(len(all_z0_neg[i])):\n",
    "        delta_z0.append(all_z0_pos[i][j]-all_z0_neg[i][j])"
   ]
  },
  {
   "cell_type": "code",
   "execution_count": null,
   "id": "1af24e15-4b26-4c39-9575-1caf705ac393",
   "metadata": {},
   "outputs": [],
   "source": [
    "delta_z0_tp = []\n",
    "for i in range(len(all_z0_neg_tp)):\n",
    "    for j in range(len(all_z0_neg_tp[i])):\n",
    "        delta_z0_tp.append(all_z0_pos_tp[i][j]-all_z0_neg_tp[i][j])"
   ]
  },
  {
   "cell_type": "code",
   "execution_count": null,
   "id": "e0797903-4d05-4601-a1b9-cf80f98ee5b1",
   "metadata": {},
   "outputs": [],
   "source": [
    "delta_z0_tp[0]"
   ]
  },
  {
   "cell_type": "code",
   "execution_count": 93,
   "id": "334078e9-67c8-4f99-9204-5e1e04e2ca0c",
   "metadata": {},
   "outputs": [],
   "source": []
  },
  {
   "cell_type": "code",
   "execution_count": null,
   "id": "1175fb68-7807-4cb5-8b7f-5efaa6000954",
   "metadata": {},
   "outputs": [],
   "source": [
    "flatten_pos_reco_parameters[0]"
   ]
  },
  {
   "cell_type": "code",
   "execution_count": null,
   "id": "75c223a0-bb2a-4169-bc4f-4ce26bf14f11",
   "metadata": {},
   "outputs": [],
   "source": [
    "delta_eta = []\n",
    "for i in range(len(eta_neg_signal)):\n",
    "    delta_eta.append(np.abs(eta_pos_signal[i])-np.abs(eta_neg_signal[i]))\n",
    "    \n",
    "delta_phi = []\n",
    "for i in range(len(phi_neg_signal)):\n",
    "    delta_phi.append(np.abs(phi_neg_signal[i])-np.abs(phi_pos_signal[i]))\n",
    "    \n",
    "delta_pt = []\n",
    "for i in range(len(pt_neg_signal)):\n",
    "    delta_pt.append(pt_neg_signal[i]-pt_pos_signal[i])"
   ]
  },
  {
   "cell_type": "code",
   "execution_count": null,
   "id": "d407a1c8-da8f-4cbe-a039-ad06aeaddd26",
   "metadata": {},
   "outputs": [],
   "source": [
    "# delta_eta_reco = []\n",
    "# for i in range(len(eta_neg_reco)):\n",
    "#     delta_eta_reco.append(np.abs(eta_pos_reco[i])-np.abs(eta_neg_reco[i]))\n",
    "\n",
    "    \n",
    "# delta_pt_reco = []\n",
    "# for i in range(len(pt_neg_reco)):\n",
    "#     delta_pt_reco.append(pt_neg_reco[i]-pt_pos_reco[i])"
   ]
  },
  {
   "cell_type": "code",
   "execution_count": null,
   "id": "720f4222-04c2-4775-9d5b-bcf563171b21",
   "metadata": {},
   "outputs": [],
   "source": [
    "plt.figure(figsize = (10,5))\n",
    "plt.hist(invariant_mass_tp,bins=200,range=(3.09,3.105),histtype='step',label = '2030 particles, 1554 events')\n",
    "plt.ylabel('tracks in bin',fontsize = 15)\n",
    "plt.xlabel('Invariant Mass (GeV)',fontsize = 15)\n",
    "plt.rc('xtick', labelsize=10) \n",
    "plt.rc('ytick', labelsize=10)\n",
    "plt.title(\" Invariant Mass of tp\",fontsize = 20)\n",
    "plt.legend(loc='upper left',prop={'size': 15})\n",
    "\n",
    "plt.show"
   ]
  },
  {
   "cell_type": "code",
   "execution_count": null,
   "id": "a85930b3-0849-4ffe-b5bd-0be35ebfd778",
   "metadata": {},
   "outputs": [],
   "source": [
    "len(invariant_mass_tp)"
   ]
  },
  {
   "cell_type": "code",
   "execution_count": null,
   "id": "e6dd32cc-7780-4708-85e9-82552b3a8354",
   "metadata": {},
   "outputs": [],
   "source": [
    "plt.figure(figsize = (10,5))\n",
    "plt.hist(invariant_mass_reco,bins=150,range=(0,10),histtype='step',label = '8911 particles')\n",
    "plt.ylabel('tracks in bin',fontsize = 15)\n",
    "plt.xlabel('Invariant Mass (GeV)',fontsize = 15)\n",
    "plt.rc('xtick', labelsize=10) \n",
    "plt.rc('ytick', labelsize=10)\n",
    "plt.title(\" Invariant Mass of trk\",fontsize = 20)\n",
    "plt.legend(loc='upper left',prop={'size': 15})\n",
    "\n",
    "plt.show"
   ]
  },
  {
   "cell_type": "code",
   "execution_count": null,
   "id": "7f85f779-3bc8-47ba-b8ab-c12912bc572a",
   "metadata": {},
   "outputs": [],
   "source": [
    "plt.figure(figsize = (10,5))\n",
    "plt.hist(invariant_mass_signal,bins=100,range=(0,10),histtype='step',label = '856 particles, 1554 events')\n",
    "plt.ylabel('tracks in bin',fontsize = 15)\n",
    "plt.xlabel('Invariant Mass (GeV)',fontsize = 15)\n",
    "plt.rc('xtick', labelsize=10) \n",
    "plt.rc('ytick', labelsize=10)\n",
    "plt.title(\" Invariant Mass of matchtrk\",fontsize = 20)\n",
    "plt.legend(loc='upper left',prop={'size': 15})\n",
    "\n",
    "plt.show"
   ]
  },
  {
   "cell_type": "code",
   "execution_count": null,
   "id": "b49e32f6-ec46-42a7-99b8-89c92b5cd5bc",
   "metadata": {},
   "outputs": [],
   "source": [
    "len(invariant_mass_signal)"
   ]
  },
  {
   "cell_type": "code",
   "execution_count": null,
   "id": "5fd4924c-817e-43a1-b5b7-03bf8acf8d9d",
   "metadata": {},
   "outputs": [],
   "source": [
    "plt.figure(figsize = (10,5))\n",
    "plt.hist(delta_eta,bins=200,range=(-10,10),histtype='step',label = 'matchtrk', density = True)\n",
    "plt.hist(delta_eta_reco,bins=200,range=(-10,10),histtype='step',label = 'trk', density = True)\n",
    "# plt.hist(delta_eta_pt,bins=200,range=(-10,10),histtype='step',label = 'trk', density = True)\n",
    "plt.ylabel('tracks in bin',fontsize = 15)\n",
    "plt.xlabel('Delta eta',fontsize = 15)\n",
    "plt.rc('xtick', labelsize=10) \n",
    "plt.rc('ytick', labelsize=10)\n",
    "plt.title(\" Delta eta\",fontsize = 20)\n",
    "plt.legend(loc='upper left',prop={'size': 15})\n",
    "\n",
    "plt.show"
   ]
  },
  {
   "cell_type": "code",
   "execution_count": null,
   "id": "052d4686-fa7a-4028-a9f6-3f47488873ca",
   "metadata": {},
   "outputs": [],
   "source": [
    "plt.figure(figsize = (10,5))\n",
    "plt.hist(delta_phi,bins=200,range=(-10,10),histtype='step',label = 'matchtrk', density = True)\n",
    "plt.hist(delta_phi_reco,bins=200,range=(-10,10),histtype='step',label = 'trk', density = True)\n",
    "plt.ylabel('tracks in bin',fontsize = 15)\n",
    "plt.xlabel('delta phi',fontsize = 15)\n",
    "plt.rc('xtick', labelsize=10) \n",
    "plt.rc('ytick', labelsize=10)\n",
    "plt.title(\" Delta Phi\",fontsize = 20)\n",
    "plt.legend(loc='upper left',prop={'size': 15})\n",
    "\n",
    "plt.show"
   ]
  },
  {
   "cell_type": "code",
   "execution_count": null,
   "id": "baf9b871-f203-4afb-be6a-71487a5ee6e8",
   "metadata": {},
   "outputs": [],
   "source": [
    "plt.figure(figsize = (10,5))\n",
    "plt.hist(delta_pt,bins=200,range=(-10,10),histtype='step',label = 'matchtrk', density = True)\n",
    "plt.hist(delta_pt_reco,bins=200,range=(-10,10),histtype='step',label = 'trk', density = True)\n",
    "plt.ylabel('tracks in bin',fontsize = 15)\n",
    "plt.xlabel('Delta pt (GeV)',fontsize = 15)\n",
    "plt.rc('xtick', labelsize=10) \n",
    "plt.rc('ytick', labelsize=10)\n",
    "plt.title(\" Delta pt\",fontsize = 20)\n",
    "plt.legend(loc='upper left',prop={'size': 15})\n",
    "\n",
    "plt.show"
   ]
  },
  {
   "cell_type": "code",
   "execution_count": null,
   "id": "55db56fd-e5d9-4a7f-a80c-8d4b00468d98",
   "metadata": {},
   "outputs": [],
   "source": [
    "plt.figure(figsize = (10,5))\n",
    "plt.hist(higher_pt_signal,bins=100,range=(0,15),histtype='step',label = 'matchtrk higher pt signal tracks', density = True)\n",
    "plt.hist(higher_pt_reco,bins=100,range=(0,15),histtype='step',label = 'trk higher pt tracks', density = True)\n",
    "plt.ylabel('tracks in bin',fontsize = 15)\n",
    "plt.xlabel('pt (GeV)',fontsize = 15)\n",
    "plt.rc('xtick', labelsize=10) \n",
    "plt.rc('ytick', labelsize=10)\n",
    "plt.title(\"pt\",fontsize = 20)\n",
    "plt.legend(loc='upper right',prop={'size': 15})\n",
    "\n",
    "plt.show"
   ]
  },
  {
   "cell_type": "code",
   "execution_count": null,
   "id": "a6408d2d-66d1-4aef-aaff-a9860e9e000f",
   "metadata": {},
   "outputs": [],
   "source": [
    "len(higher_pt_reco_array[higher_pt_reco_array>3])"
   ]
  },
  {
   "cell_type": "code",
   "execution_count": null,
   "id": "fbd27329-74b4-4289-bf5e-2d622f7a3569",
   "metadata": {},
   "outputs": [],
   "source": [
    "plt.figure(figsize = (10,5))\n",
    "plt.hist(lower_pt_signal,bins=200,range=(0,10),histtype='step',label = 'matchtrk lower pt signal tracks', density = True)\n",
    "plt.hist(lower_pt_reco,bins=200,range=(0,10),histtype='step',label = 'trk lower pt tracks', density = True)\n",
    "plt.ylabel('tracks in bin',fontsize = 15)\n",
    "plt.xlabel('pt (GeV)',fontsize = 15)\n",
    "plt.rc('xtick', labelsize=10) \n",
    "plt.rc('ytick', labelsize=10)\n",
    "plt.title(\"pt\",fontsize = 20)\n",
    "plt.legend(loc='upper right',prop={'size': 15})\n",
    "\n",
    "plt.show"
   ]
  },
  {
   "cell_type": "code",
   "execution_count": null,
   "id": "611f9407-1019-4a9e-b576-c71e6c7151d6",
   "metadata": {},
   "outputs": [],
   "source": [
    "plt.figure(figsize = (10,5))\n",
    "plt.hist(pt_reco,bins=200,range=(0,10),histtype='step',label = 'matchtrk higher pt signal tracks', density = True)\n",
    "plt.ylabel('tracks in bin',fontsize = 15)\n",
    "plt.xlabel('pt (GeV)',fontsize = 15)\n",
    "plt.rc('xtick', labelsize=10) \n",
    "plt.rc('ytick', labelsize=10)\n",
    "plt.title(\"pt\",fontsize = 20)\n",
    "plt.legend(loc='upper right',prop={'size': 15})\n",
    "\n",
    "plt.show"
   ]
  },
  {
   "cell_type": "code",
   "execution_count": null,
   "id": "98acd731-d661-4861-9044-8bc78f34a5a9",
   "metadata": {},
   "outputs": [],
   "source": [
    "plt.figure(figsize = (10,5))\n",
    "plt.hist(higher_pt_signal,bins=200,range=(0,10),histtype='step',label = 'matchtrk higher pt signal tracks', density = True)\n",
    "plt.hist(higher_pt_background,bins=200,range=(0,10),histtype='step',label = 'matchtrk higher pt background tracks', density = True)\n",
    "plt.ylabel('tracks in bin',fontsize = 15)\n",
    "plt.xlabel('pt (GeV)',fontsize = 15)\n",
    "plt.rc('xtick', labelsize=10) \n",
    "plt.rc('ytick', labelsize=10)\n",
    "plt.title(\"pt\",fontsize = 20)\n",
    "plt.legend(loc='upper right',prop={'size': 15})\n",
    "\n",
    "plt.show"
   ]
  },
  {
   "cell_type": "code",
   "execution_count": null,
   "id": "4af6f5db-3d6b-4a38-8b2e-e108cb32ead2",
   "metadata": {},
   "outputs": [],
   "source": [
    "plt.figure(figsize = (10,5))\n",
    "plt.hist(lower_pt_signal,bins=200,range=(0,10),histtype='step',label = 'matchtrk lower pt signal tracks', density = True)\n",
    "plt.hist(lower_pt_background,bins=200,range=(0,10),histtype='step',label = 'matchtrk lower pt background tracks', density = True)\n",
    "plt.ylabel('tracks in bin',fontsize = 15)\n",
    "plt.xlabel('pt (GeV)',fontsize = 15)\n",
    "plt.rc('xtick', labelsize=10) \n",
    "plt.rc('ytick', labelsize=10)\n",
    "plt.title(\"pt\",fontsize = 20)\n",
    "plt.legend(loc='upper right',prop={'size': 15})\n",
    "\n",
    "plt.show"
   ]
  },
  {
   "cell_type": "code",
   "execution_count": null,
   "id": "bb320d86-ec1b-411a-902f-638ca13d1feb",
   "metadata": {},
   "outputs": [],
   "source": [
    "plt.figure(figsize = (10,5))\n",
    "plt.hist(delta_z0,bins=100,range=(-10,10),histtype='step',label = 'matchtrk',density = True)\n",
    "plt.hist(delta_z0_reco,bins=100,range=(-10,10),histtype='step',label = 'trk', density = True)\n",
    "# plt.hist(delta_z0_tp,bins=100,range=(-1,1),histtype='step',label = 'tp', density = True)\n",
    "plt.ylabel('tracks in bin',fontsize = 15)\n",
    "plt.xlabel('delta z0',fontsize = 15)\n",
    "plt.rc('xtick', labelsize=10) \n",
    "plt.rc('ytick', labelsize=10)\n",
    "plt.title(\" Delta z0\",fontsize = 20)\n",
    "plt.legend(loc='upper left',prop={'size': 15})\n",
    "\n",
    "plt.show"
   ]
  },
  {
   "cell_type": "code",
   "execution_count": null,
   "id": "7287ec38-60d4-43e7-af74-63e6caab6226",
   "metadata": {},
   "outputs": [],
   "source": [
    "invariant_mass_reco_array = np.array(invariant_mass_reco)\n",
    "# delta_pt_reco_array = np.array(delta_pt_reco)"
   ]
  },
  {
   "cell_type": "code",
   "execution_count": null,
   "id": "6a6390a9-0457-4878-a95a-326fe6a627ca",
   "metadata": {},
   "outputs": [],
   "source": [
    "len(higher_pt_reco)"
   ]
  },
  {
   "cell_type": "code",
   "execution_count": null,
   "id": "87b961e1-4b77-4e69-b0ad-a290ff6928a5",
   "metadata": {},
   "outputs": [],
   "source": [
    "# pt_reco_array = np.array(pt_reco)"
   ]
  },
  {
   "cell_type": "code",
   "execution_count": null,
   "id": "e2982cce-ae46-4685-83a4-fd3f39732796",
   "metadata": {},
   "outputs": [],
   "source": []
  },
  {
   "cell_type": "code",
   "execution_count": null,
   "id": "ec84b1b5-aabe-477c-81cb-5386074dda0e",
   "metadata": {},
   "outputs": [],
   "source": []
  },
  {
   "cell_type": "code",
   "execution_count": null,
   "id": "a0d55452-26f6-44c8-a7a5-8eae5328834e",
   "metadata": {},
   "outputs": [],
   "source": [
    "# len(phi_eta_z0_cut)"
   ]
  },
  {
   "cell_type": "code",
   "execution_count": null,
   "id": "46fc679a-58c4-4b4a-a10e-5a403befb649",
   "metadata": {},
   "outputs": [],
   "source": [
    "# eta_z0_cut = eta_cut[z0_cut]"
   ]
  },
  {
   "cell_type": "code",
   "execution_count": null,
   "id": "c3bf49eb-94a8-42d6-9444-37bf051e3a99",
   "metadata": {},
   "outputs": [],
   "source": [
    "# phi_z0_cut = phi_cut[z0_cut]\n",
    "# phi_eta_z0_cut = phi_z0_cut[eta_z0_cut]"
   ]
  },
  {
   "cell_type": "code",
   "execution_count": null,
   "id": "03333b66-8e82-40ed-90bf-e7c27ae5c659",
   "metadata": {},
   "outputs": [],
   "source": [
    "# invariant_mass_reco_z0_cut = invariant_mass_reco_array[z0_cut]"
   ]
  },
  {
   "cell_type": "code",
   "execution_count": null,
   "id": "6d7356c5-6e9d-4df4-b9ef-49c7220a3827",
   "metadata": {},
   "outputs": [],
   "source": [
    "# pt_z0_cut = pt_cut[z0_cut]\n",
    "# pt_eta_z0_cut = pt_z0_cut[eta_z0_cut]\n",
    "# pt_phi_eta_z0_cut = pt_eta_z0_cut[phi_eta_z0_cut]"
   ]
  },
  {
   "cell_type": "code",
   "execution_count": null,
   "id": "278a0a25-f61b-4dec-b414-7e0dd8a8b58b",
   "metadata": {},
   "outputs": [],
   "source": [
    "# len(invariant_mass_reco_z0_cut)"
   ]
  },
  {
   "cell_type": "code",
   "execution_count": null,
   "id": "6ab052ee-0346-4c93-96e8-3b046543bb3e",
   "metadata": {},
   "outputs": [],
   "source": [
    "# delta_eta_reco_z0_cut = delta_eta_reco_array[z0_cut]"
   ]
  },
  {
   "cell_type": "code",
   "execution_count": null,
   "id": "93b8c716-cfe1-479b-970c-bb50917eb0e4",
   "metadata": {},
   "outputs": [],
   "source": [
    "# invariant_mass_reco_eta_z0_cut = invariant_mass_reco_z0_cut[eta_z0_cut]"
   ]
  },
  {
   "cell_type": "code",
   "execution_count": null,
   "id": "bb41dad1-1ea3-4382-9251-056688fa5694",
   "metadata": {},
   "outputs": [],
   "source": [
    "# invariant_mass_reco_phi_eta_z0_cut = invariant_mass_reco_eta_z0_cut[phi_eta_z0_cut]"
   ]
  },
  {
   "cell_type": "code",
   "execution_count": null,
   "id": "ca6baefa-9200-4964-8b61-a5bf7de8a818",
   "metadata": {},
   "outputs": [],
   "source": [
    "# invariant_mass_reco_pt_phi_eta_z0_cut = invariant_mass_reco_phi_eta_z0_cut[pt_phi_eta_z0_cut]"
   ]
  },
  {
   "cell_type": "code",
   "execution_count": null,
   "id": "8df4c1ea-e0be-444f-a169-d90b2b13fa65",
   "metadata": {},
   "outputs": [],
   "source": [
    "# delta_phi_reco_z0_cut = delta_phi_reco_array[z0_cut]"
   ]
  },
  {
   "cell_type": "code",
   "execution_count": null,
   "id": "b4d91500-c73d-4797-9521-9f9d11099727",
   "metadata": {},
   "outputs": [],
   "source": [
    "# delta_pt_reco_z0_cut = delta_pt_reco_array[z0_cut]"
   ]
  },
  {
   "cell_type": "code",
   "execution_count": null,
   "id": "4b91b444-0e9e-463a-9645-abedeb8c6193",
   "metadata": {},
   "outputs": [],
   "source": [
    "# plt.figure(figsize = (10,5))\n",
    "# plt.hist(invariant_mass_reco_pt_phi_eta_z0_cut,bins=100,range=(0,15),histtype='step',label = 'trk after z0 cut')\n",
    "# plt.ylabel('tracks in bin',fontsize = 15)\n",
    "# plt.xlabel('Invariant Mass (GeV)',fontsize = 15)\n",
    "# plt.rc('xtick', labelsize=10) \n",
    "# plt.rc('ytick', labelsize=10)\n",
    "# plt.title(\" Invariant Mass of trk after z0 cut\",fontsize = 20)\n",
    "# plt.legend(loc='upper left',prop={'size': 15})\n",
    "\n",
    "# plt.show"
   ]
  },
  {
   "cell_type": "code",
   "execution_count": null,
   "id": "26846faa-7fc8-45dd-ae73-b70c45397ed4",
   "metadata": {},
   "outputs": [],
   "source": [
    "# len(invariant_mass_reco_pt_phi_eta_z0_cut)"
   ]
  },
  {
   "cell_type": "code",
   "execution_count": null,
   "id": "ad0046b8-9459-42bf-a1cc-684838361b9b",
   "metadata": {},
   "outputs": [],
   "source": [
    "# plt.figure(figsize = (10,5))\n",
    "# plt.hist(delta_eta,bins=200,range=(-10,10),histtype='step',label = 'matchtrk', density = True)\n",
    "# plt.hist(delta_eta_reco_z0_cut,bins=200,range=(-10,10),histtype='step',label = 'trk after cut', density = True)\n",
    "# plt.ylabel('tracks in bin',fontsize = 15)\n",
    "# plt.xlabel('Delta eta',fontsize = 15)\n",
    "# plt.rc('xtick', labelsize=10) \n",
    "# plt.rc('ytick', labelsize=10)\n",
    "# plt.title(\" Delta eta after z0 cut\",fontsize = 20)\n",
    "# plt.legend(loc='upper left',prop={'size': 15})\n",
    "\n",
    "# plt.show"
   ]
  },
  {
   "cell_type": "code",
   "execution_count": null,
   "id": "cf98e5cb-5a5a-48b1-be69-24609171d004",
   "metadata": {},
   "outputs": [],
   "source": [
    "# plt.figure(figsize = (10,5))\n",
    "# plt.hist(delta_phi,bins=200,range=(-10,10),histtype='step',label = 'matchtrk', density = True)\n",
    "# plt.hist(delta_phi_reco_z0_cut,bins=200,range=(-10,10),histtype='step',label = 'trk after cut', density = True)\n",
    "# plt.ylabel('tracks in bin',fontsize = 15)\n",
    "# plt.xlabel('Delta phi',fontsize = 15)\n",
    "# plt.rc('xtick', labelsize=10) \n",
    "# plt.rc('ytick', labelsize=10)\n",
    "# plt.title(\" Delta phi after z0 cut\",fontsize = 20)\n",
    "# plt.legend(loc='upper left',prop={'size': 15})\n",
    "\n",
    "# plt.show"
   ]
  },
  {
   "cell_type": "code",
   "execution_count": null,
   "id": "a0a5ef68-df6e-4d51-91fb-901be57cc3d3",
   "metadata": {},
   "outputs": [],
   "source": [
    "# plt.figure(figsize = (10,5))\n",
    "# plt.hist(delta_pt,bins=200,range=(-10,10),histtype='step',label = 'matchtrk', density = True)\n",
    "# plt.hist(delta_pt_reco_z0_cut,bins=200,range=(-10,10),histtype='step',label = 'trk after cut', density = True)\n",
    "# plt.ylabel('tracks in bin',fontsize = 15)\n",
    "# plt.xlabel('Delta pt',fontsize = 15)\n",
    "# plt.rc('xtick', labelsize=10) \n",
    "# plt.rc('ytick', labelsize=10)\n",
    "# plt.title(\" Delta pt after z0 cut\",fontsize = 20)\n",
    "# plt.legend(loc='upper left',prop={'size': 15})\n",
    "\n",
    "# plt.show"
   ]
  },
  {
   "cell_type": "code",
   "execution_count": null,
   "id": "71a368d7-4382-4220-8249-454af3145554",
   "metadata": {},
   "outputs": [],
   "source": [
    "# a = flatten(delta_eta_reco_z0_cut)\n",
    "# print(len(a))"
   ]
  },
  {
   "cell_type": "code",
   "execution_count": null,
   "id": "117cadb0-d15b-4f47-afc9-827972415018",
   "metadata": {},
   "outputs": [],
   "source": [
    "plt.figure(figsize = (10,5))\n",
    "plt.hist(delta_z0_tp,bins=100,range=(-1,1),histtype='step',label = 'tp')\n",
    "# plt.hist(delta_z0_reco,bins=100,range=(-1,1),histtype='step',label = 'trk', density = True)\n",
    "# plt.hist(delta_z0_tp,bins=100,range=(-1,1),histtype='step',label = 'tp', density = True)\n",
    "plt.ylabel('tracks in bin',fontsize = 15)\n",
    "plt.xlabel('Delta z0',fontsize = 15)\n",
    "plt.rc('xtick', labelsize=10) \n",
    "plt.rc('ytick', labelsize=10)\n",
    "plt.title(\" Delta z0 tp\",fontsize = 20)\n",
    "plt.legend(loc='upper left',prop={'size': 15})\n",
    "\n",
    "plt.show"
   ]
  },
  {
   "cell_type": "code",
   "execution_count": null,
   "id": "5ed5d98a-b661-45a7-881c-7a6868e68ac8",
   "metadata": {},
   "outputs": [],
   "source": [
    "plt.figure(figsize = (10,5))\n",
    "plt.hist(delta_z0_reco,bins=100,range=(-10,10),histtype='step',label = 'trk')\n",
    "# plt.hist(delta_z0_reco,bins=100,range=(-1,1),histtype='step',label = 'trk', density = True)\n",
    "# plt.hist(delta_z0_tp,bins=100,range=(-1,1),histtype='step',label = 'tp', density = True)\n",
    "plt.ylabel('tracks in bin',fontsize = 15)\n",
    "plt.xlabel('delta z0',fontsize = 15)\n",
    "plt.rc('xtick', labelsize=10) \n",
    "plt.rc('ytick', labelsize=10)\n",
    "plt.title(\"Delta z0 trk\",fontsize = 20)\n",
    "plt.legend(loc='upper left',prop={'size': 15})\n",
    "\n",
    "plt.show"
   ]
  },
  {
   "cell_type": "code",
   "execution_count": null,
   "id": "ead1453a-7653-41d0-93ac-83303944cff6",
   "metadata": {},
   "outputs": [],
   "source": [
    "r = np.array(invariant_mass_tp)\n",
    "\n",
    "larger_background = r>3.10\n",
    "smaller_background = r<3.09\n",
    "\n",
    "lower_J_range = r>3.09\n",
    "upper_J_range = r<3.10"
   ]
  },
  {
   "cell_type": "code",
   "execution_count": null,
   "id": "3f7c120a-76bd-4934-8205-3e372f0c34ea",
   "metadata": {},
   "outputs": [],
   "source": [
    "J_range_truth = np.logical_and(lower_J_range,lower_J_range)\n",
    "background_range_truth = np.logical_or(larger_background,smaller_background)"
   ]
  },
  {
   "cell_type": "code",
   "execution_count": null,
   "id": "dc368986-1ca3-4a6c-bdec-b4b662700eee",
   "metadata": {},
   "outputs": [],
   "source": [
    "delta_z0_array[0]"
   ]
  },
  {
   "cell_type": "code",
   "execution_count": null,
   "id": "e6090cc2-fe86-4085-82c0-c3a19abe1419",
   "metadata": {},
   "outputs": [],
   "source": [
    "# delta_eta_array = np.array(delta_eta)\n",
    "# delta_phi_array = np.array(delta_phi)\n",
    "# delta_pt_array = np.array(delta_pt)\n",
    "# delta_z0_array = np.array(delta_z0)"
   ]
  },
  {
   "cell_type": "code",
   "execution_count": null,
   "id": "22b5dc66-8693-43b3-98ac-4b607fd3a7ce",
   "metadata": {},
   "outputs": [],
   "source": [
    "# delta_eta_J = delta_eta_array[J_range_truth]\n",
    "# delta_eta_background = delta_eta_array[background_range_truth]\n",
    "\n",
    "# delta_phi_J = delta_phi_array[J_range_truth]\n",
    "# delta_phi_background = delta_phi_array[background_range_truth]\n",
    "\n",
    "# delta_pt_J = delta_pt_array[J_range_truth]\n",
    "# delta_pt_background = delta_pt_array[background_range_truth]\n",
    "\n",
    "# delta_z0_J = delta_z0_array[J_range_truth]\n",
    "# delta_z0_background = delta_z0_array[background_range_truth]"
   ]
  },
  {
   "cell_type": "code",
   "execution_count": null,
   "id": "f14a3462-d089-4b21-917f-af02fd15d970",
   "metadata": {},
   "outputs": [],
   "source": [
    "# delta_eta_J"
   ]
  },
  {
   "cell_type": "code",
   "execution_count": null,
   "id": "02efcd68-acc7-44a2-bb4c-9d7971349484",
   "metadata": {},
   "outputs": [],
   "source": [
    "# len(delta_eta_background)"
   ]
  },
  {
   "cell_type": "code",
   "execution_count": null,
   "id": "fbf6a069-9925-473a-8503-36368cc09d36",
   "metadata": {},
   "outputs": [],
   "source": []
  },
  {
   "cell_type": "code",
   "execution_count": null,
   "id": "872bf99a-e0b8-4a90-a4b0-58aab58c40fa",
   "metadata": {},
   "outputs": [],
   "source": []
  },
  {
   "cell_type": "code",
   "execution_count": null,
   "id": "f0d35ea2-10b0-4880-9243-e75cb247c0c5",
   "metadata": {},
   "outputs": [],
   "source": []
  },
  {
   "cell_type": "code",
   "execution_count": null,
   "id": "9de0bbc2-8711-4447-a901-d9f64f6c6b0d",
   "metadata": {},
   "outputs": [],
   "source": []
  },
  {
   "cell_type": "code",
   "execution_count": null,
   "id": "5c68c0b2-28d7-42d5-ab5e-aed31b816f2a",
   "metadata": {},
   "outputs": [],
   "source": []
  },
  {
   "cell_type": "code",
   "execution_count": null,
   "id": "f407e1d9-e895-465b-bc07-a59560d36373",
   "metadata": {},
   "outputs": [],
   "source": []
  },
  {
   "cell_type": "code",
   "execution_count": null,
   "id": "c625c0da-d640-4f53-b5cc-6be38a814bf5",
   "metadata": {},
   "outputs": [],
   "source": []
  }
 ],
 "metadata": {
  "kernelspec": {
   "display_name": "Python 3 (ipykernel)",
   "language": "python",
   "name": "python3"
  },
  "language_info": {
   "codemirror_mode": {
    "name": "ipython",
    "version": 3
   },
   "file_extension": ".py",
   "mimetype": "text/x-python",
   "name": "python",
   "nbconvert_exporter": "python",
   "pygments_lexer": "ipython3",
   "version": "3.10.9"
  }
 },
 "nbformat": 4,
 "nbformat_minor": 5
}
